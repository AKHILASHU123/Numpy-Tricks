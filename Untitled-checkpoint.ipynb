{
 "cells": [
  {
   "cell_type": "code",
   "execution_count": 9,
   "id": "560a0bb6",
   "metadata": {},
   "outputs": [
    {
     "data": {
      "text/plain": [
       "16"
      ]
     },
     "execution_count": 9,
     "metadata": {},
     "output_type": "execute_result"
    }
   ],
   "source": [
    "a=20\n",
    "b=4\n",
    "a &b\n",
    "\n",
    "\n",
    "\n",
    "a|b\n",
    "\n",
    "\n",
    "a^b\n",
    "\n",
    "\n",
    "\n"
   ]
  },
  {
   "cell_type": "code",
   "execution_count": 10,
   "id": "03affe09",
   "metadata": {},
   "outputs": [
    {
     "data": {
      "text/plain": [
       "'0b1010'"
      ]
     },
     "execution_count": 10,
     "metadata": {},
     "output_type": "execute_result"
    }
   ],
   "source": [
    "bin(10)"
   ]
  },
  {
   "cell_type": "markdown",
   "id": "a7c4bc0b",
   "metadata": {},
   "source": [
    "# control structures\n",
    "* squential control\n",
    "* selection control\n",
    "* iterative control"
   ]
  },
  {
   "cell_type": "code",
   "execution_count": 11,
   "id": "005fdec1",
   "metadata": {},
   "outputs": [
    {
     "name": "stdout",
     "output_type": "stream",
     "text": [
      "hello\n",
      "welcome\n",
      "welcome to ashu\n"
     ]
    }
   ],
   "source": [
    "print('hello')\n",
    "print('welcome')\n",
    "print('welcome to ashu')"
   ]
  },
  {
   "cell_type": "code",
   "execution_count": 15,
   "id": "25a6ade5",
   "metadata": {},
   "outputs": [
    {
     "name": "stdout",
     "output_type": "stream",
     "text": [
      "enter the integer value25\n",
      "vale is greater than 10\n"
     ]
    }
   ],
   "source": [
    "var=int(input('enter the integer value'))\n",
    "if var<10:\n",
    "    print(\"value is less than 10\")\n",
    "else:\n",
    "    print('vale is greater than 10')\n"
   ]
  },
  {
   "cell_type": "code",
   "execution_count": 21,
   "id": "eccbee0e",
   "metadata": {},
   "outputs": [
    {
     "name": "stdout",
     "output_type": "stream",
     "text": [
      "0\n",
      "1\n",
      "2\n",
      "3\n",
      "4\n",
      "5\n",
      "6\n",
      "7\n",
      "8\n",
      "9\n"
     ]
    }
   ],
   "source": [
    "var=0\n",
    "while var<10:\n",
    "    print(var)\n",
    "    var=var+1"
   ]
  },
  {
   "cell_type": "code",
   "execution_count": null,
   "id": "fe34dd47",
   "metadata": {},
   "outputs": [],
   "source": [
    "* selection control statement\n",
    "if condition:\n",
    "    action\n",
    "else:\n",
    "    action\n",
    "      "
   ]
  }
 ],
 "metadata": {
  "kernelspec": {
   "display_name": "Python 3",
   "language": "python",
   "name": "python3"
  },
  "language_info": {
   "codemirror_mode": {
    "name": "ipython",
    "version": 3
   },
   "file_extension": ".py",
   "mimetype": "text/x-python",
   "name": "python",
   "nbconvert_exporter": "python",
   "pygments_lexer": "ipython3",
   "version": "3.8.8"
  }
 },
 "nbformat": 4,
 "nbformat_minor": 5
}
