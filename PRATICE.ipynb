{
 "cells": [
  {
   "cell_type": "code",
   "execution_count": 3,
   "id": "5d14cc91",
   "metadata": {},
   "outputs": [
    {
     "name": "stdout",
     "output_type": "stream",
     "text": [
      "Enter Number to calculate sum15\n",
      "SUM of first 15 number is: 120\n"
     ]
    }
   ],
   "source": [
    "n=input(\"Enter Number to calculate sum\")\n",
    "n=int(n)\n",
    "sum=0\n",
    "for num in range(0,n+1,1):\n",
    "    sum=sum+num\n",
    "print(\"SUM of first\", n, \"number is:\", sum)\n"
   ]
  },
  {
   "cell_type": "code",
   "execution_count": 4,
   "id": "5b203960",
   "metadata": {},
   "outputs": [],
   "source": [
    "# THE SUM OF FIRST n NATURAL NUMBER \n"
   ]
  },
  {
   "cell_type": "markdown",
   "id": "ffff6268",
   "metadata": {},
   "source": [
    "# THE SUM OF FIRST  NATURAL NUMBER \n"
   ]
  },
  {
   "cell_type": "code",
   "execution_count": 5,
   "id": "50faf4bd",
   "metadata": {},
   "outputs": [
    {
     "name": "stdout",
     "output_type": "stream",
     "text": [
      "Enter Number to calculate sum12\n",
      "SUM of first 12 number is: 78\n"
     ]
    }
   ],
   "source": [
    "n=input(\"Enter Number to calculate sum\")\n",
    "n=int(n)\n",
    "sum=0\n",
    "for num in range(0,n+1,1):\n",
    "    sum=sum+num\n",
    "print(\"SUM of first\", n, \"number is:\", sum)\n"
   ]
  },
  {
   "cell_type": "code",
   "execution_count": 6,
   "id": "d8e07178",
   "metadata": {},
   "outputs": [
    {
     "name": "stdout",
     "output_type": "stream",
     "text": [
      "Enter Number to calculate sum12\n",
      "SUM of first 12 number is: 78\n"
     ]
    }
   ],
   "source": [
    "n=input(\"Enter Number to calculate sum\")\n",
    "n=int(n)\n",
    "sum=0\n",
    "for num in range(0,n+1,1):\n",
    "    sum=sum+num\n",
    "print(\"SUM of first\", n, \"number is:\", sum)\n"
   ]
  },
  {
   "cell_type": "markdown",
   "id": "2665511e",
   "metadata": {},
   "source": [
    "# PYTHON PROGRAM TO CALCULATE AVERAGE"
   ]
  },
  {
   "cell_type": "code",
   "execution_count": 7,
   "id": "64a252d3",
   "metadata": {},
   "outputs": [
    {
     "name": "stdout",
     "output_type": "stream",
     "text": [
      "calculate an average of first n natural number \n",
      "Enter number1@\n"
     ]
    },
    {
     "ename": "ValueError",
     "evalue": "invalid literal for int() with base 10: '1@'",
     "output_type": "error",
     "traceback": [
      "\u001b[1;31m---------------------------------------------------------------------------\u001b[0m",
      "\u001b[1;31mValueError\u001b[0m                                Traceback (most recent call last)",
      "\u001b[1;32m<ipython-input-7-37718443fb3b>\u001b[0m in \u001b[0;36m<module>\u001b[1;34m\u001b[0m\n\u001b[0;32m      1\u001b[0m \u001b[0mprint\u001b[0m\u001b[1;33m(\u001b[0m\u001b[1;34m\"calculate an average of first n natural number \"\u001b[0m\u001b[1;33m)\u001b[0m\u001b[1;33m\u001b[0m\u001b[1;33m\u001b[0m\u001b[0m\n\u001b[0;32m      2\u001b[0m \u001b[0mn\u001b[0m\u001b[1;33m=\u001b[0m\u001b[0minput\u001b[0m\u001b[1;33m(\u001b[0m\u001b[1;34m\"Enter number\"\u001b[0m\u001b[1;33m)\u001b[0m\u001b[1;33m\u001b[0m\u001b[1;33m\u001b[0m\u001b[0m\n\u001b[1;32m----> 3\u001b[1;33m \u001b[0mn\u001b[0m\u001b[1;33m=\u001b[0m\u001b[0mint\u001b[0m\u001b[1;33m(\u001b[0m\u001b[0mn\u001b[0m\u001b[1;33m)\u001b[0m\u001b[1;33m\u001b[0m\u001b[1;33m\u001b[0m\u001b[0m\n\u001b[0m\u001b[0;32m      4\u001b[0m \u001b[0maveragae\u001b[0m\u001b[1;33m=\u001b[0m\u001b[1;36m0\u001b[0m\u001b[1;33m\u001b[0m\u001b[1;33m\u001b[0m\u001b[0m\n\u001b[0;32m      5\u001b[0m \u001b[0msum\u001b[0m\u001b[1;33m=\u001b[0m\u001b[1;36m0\u001b[0m\u001b[1;33m\u001b[0m\u001b[1;33m\u001b[0m\u001b[0m\n",
      "\u001b[1;31mValueError\u001b[0m: invalid literal for int() with base 10: '1@'"
     ]
    }
   ],
   "source": [
    "print(\"calculate an average of first n natural number \")\n",
    "n=input(\"Enter number\")\n",
    "n=int(n)\n",
    "averagae=0\n",
    "sum=0\n",
    "for num in range(0,n+1,1):\n",
    "    sum=sum+num;\n",
    "average=sum/n\n",
    "print(\"Average of first \",n,\"number is: \", average)"
   ]
  },
  {
   "cell_type": "markdown",
   "id": "66d114ca",
   "metadata": {},
   "source": [
    "# SUM USING THE BUILT-IN SUM FUNCTION IN PYTHON"
   ]
  },
  {
   "cell_type": "code",
   "execution_count": 48,
   "id": "623e8797",
   "metadata": {},
   "outputs": [
    {
     "name": "stdout",
     "output_type": "stream",
     "text": [
      "Sum of range of numbers:  3\n"
     ]
    }
   ],
   "source": [
    "print(\"Sum of range of numbers: \",sum(range(1,3)))\n"
   ]
  },
  {
   "cell_type": "markdown",
   "id": "355fde0d",
   "metadata": {},
   "source": [
    "# PYTHON WHILE LOOP TO CALCULATE SUM AND AVERAGE"
   ]
  },
  {
   "cell_type": "code",
   "execution_count": 50,
   "id": "7290bea5",
   "metadata": {},
   "outputs": [
    {
     "ename": "IndentationError",
     "evalue": "unindent does not match any outer indentation level (<tokenize>, line 6)",
     "output_type": "error",
     "traceback": [
      "\u001b[1;36m  File \u001b[1;32m\"<tokenize>\"\u001b[1;36m, line \u001b[1;32m6\u001b[0m\n\u001b[1;33m    n-+=1\u001b[0m\n\u001b[1;37m    ^\u001b[0m\n\u001b[1;31mIndentationError\u001b[0m\u001b[1;31m:\u001b[0m unindent does not match any outer indentation level\n"
     ]
    }
   ],
   "source": [
    "n=20\n",
    "s=n\n",
    "sum=0\n",
    "while(n>=0):\n",
    "      sum+=n\n",
    "    n-+=1\n",
    "print(\"sum using while loop \", sum)\n",
    "average = sum / s\n",
    "print(\"Average using a while loop \", average)"
   ]
  },
  {
   "cell_type": "markdown",
   "id": "fe1ebd9d",
   "metadata": {},
   "source": [
    "# variable"
   ]
  },
  {
   "cell_type": "code",
   "execution_count": 51,
   "id": "e3bd047c",
   "metadata": {},
   "outputs": [
    {
     "name": "stdout",
     "output_type": "stream",
     "text": [
      "10\n",
      "20\n",
      "ashu\n"
     ]
    }
   ],
   "source": [
    "a=10\n",
    "b=20\n",
    "c=\"ashu\"\n",
    "print(a)\n",
    "print(b)\n",
    "print(c)"
   ]
  },
  {
   "cell_type": "code",
   "execution_count": 52,
   "id": "7c585500",
   "metadata": {},
   "outputs": [
    {
     "name": "stdout",
     "output_type": "stream",
     "text": [
      "30\n"
     ]
    }
   ],
   "source": [
    "print(a+b)"
   ]
  },
  {
   "cell_type": "code",
   "execution_count": 53,
   "id": "2aef8c1c",
   "metadata": {},
   "outputs": [
    {
     "name": "stdout",
     "output_type": "stream",
     "text": [
      "200\n"
     ]
    }
   ],
   "source": [
    "print(a*b)"
   ]
  },
  {
   "cell_type": "code",
   "execution_count": 54,
   "id": "419c1819",
   "metadata": {},
   "outputs": [
    {
     "name": "stdout",
     "output_type": "stream",
     "text": [
      "ashuashuashuashuashu\n"
     ]
    }
   ],
   "source": [
    "print(c * 5) "
   ]
  },
  {
   "cell_type": "code",
   "execution_count": 55,
   "id": "34fd5c18",
   "metadata": {},
   "outputs": [
    {
     "name": "stdout",
     "output_type": "stream",
     "text": [
      "ashuashuashu\n"
     ]
    }
   ],
   "source": [
    "print(c * 3)"
   ]
  },
  {
   "cell_type": "code",
   "execution_count": 56,
   "id": "c21fc991",
   "metadata": {},
   "outputs": [
    {
     "name": "stdout",
     "output_type": "stream",
     "text": [
      "15\n"
     ]
    }
   ],
   "source": [
    "a=b=c=d=15\n",
    "print(a)"
   ]
  },
  {
   "cell_type": "code",
   "execution_count": 57,
   "id": "15aa7794",
   "metadata": {},
   "outputs": [
    {
     "name": "stdout",
     "output_type": "stream",
     "text": [
      "15\n"
     ]
    }
   ],
   "source": [
    "print(b)"
   ]
  },
  {
   "cell_type": "code",
   "execution_count": 58,
   "id": "d6aa1f58",
   "metadata": {},
   "outputs": [
    {
     "name": "stdout",
     "output_type": "stream",
     "text": [
      "15\n"
     ]
    }
   ],
   "source": [
    "print(c)"
   ]
  },
  {
   "cell_type": "code",
   "execution_count": 59,
   "id": "2895fe1a",
   "metadata": {},
   "outputs": [
    {
     "name": "stdout",
     "output_type": "stream",
     "text": [
      "40.5\n"
     ]
    }
   ],
   "source": [
    "a=10\n",
    "b=20\n",
    "c=30.5\n",
    "d=\"aswani\"\n",
    "print(a+c)"
   ]
  },
  {
   "cell_type": "code",
   "execution_count": 60,
   "id": "fce65225",
   "metadata": {},
   "outputs": [
    {
     "name": "stdout",
     "output_type": "stream",
     "text": [
      "hello ashu\n"
     ]
    }
   ],
   "source": [
    "a=\"hello ashu\"\n",
    "print(a)"
   ]
  },
  {
   "cell_type": "code",
   "execution_count": 61,
   "id": "6c2ebc53",
   "metadata": {},
   "outputs": [
    {
     "name": "stdout",
     "output_type": "stream",
     "text": [
      "hello ashuhello ashuhello ashuhello ashuhello ashu\n"
     ]
    }
   ],
   "source": [
    "print (a * 5)"
   ]
  },
  {
   "cell_type": "code",
   "execution_count": 62,
   "id": "a0b4be2c",
   "metadata": {},
   "outputs": [
    {
     "ename": "SyntaxError",
     "evalue": "invalid syntax (<ipython-input-62-23e1e7756bc2>, line 1)",
     "output_type": "error",
     "traceback": [
      "\u001b[1;36m  File \u001b[1;32m\"<ipython-input-62-23e1e7756bc2>\"\u001b[1;36m, line \u001b[1;32m1\u001b[0m\n\u001b[1;33m    print(\"Enter the numbed\" : )\u001b[0m\n\u001b[1;37m                             ^\u001b[0m\n\u001b[1;31mSyntaxError\u001b[0m\u001b[1;31m:\u001b[0m invalid syntax\n"
     ]
    }
   ],
   "source": [
    "\n",
    "print(\"Enter the numbed\" : )\n",
    "print(\"even numbers\":/2)\n"
   ]
  },
  {
   "cell_type": "code",
   "execution_count": 63,
   "id": "0089084b",
   "metadata": {},
   "outputs": [
    {
     "name": "stdout",
     "output_type": "stream",
     "text": [
      "[10, 2.14, 'ashu']\n"
     ]
    }
   ],
   "source": [
    "c=[10,2.14,\"ashu\"]\n",
    "print(c)"
   ]
  },
  {
   "cell_type": "code",
   "execution_count": 64,
   "id": "cc9a6350",
   "metadata": {},
   "outputs": [
    {
     "name": "stdout",
     "output_type": "stream",
     "text": [
      "[10, 2.14, 'ashu', 10, 2.14, 'ashu', 10, 2.14, 'ashu']\n"
     ]
    }
   ],
   "source": [
    "print(c * 3)"
   ]
  },
  {
   "cell_type": "code",
   "execution_count": 65,
   "id": "a8c657b3",
   "metadata": {},
   "outputs": [
    {
     "name": "stdout",
     "output_type": "stream",
     "text": [
      "[2.14]\n"
     ]
    }
   ],
   "source": [
    "print(c[1:2])"
   ]
  },
  {
   "cell_type": "code",
   "execution_count": 66,
   "id": "44685811",
   "metadata": {},
   "outputs": [
    {
     "name": "stdout",
     "output_type": "stream",
     "text": [
      "[10, 2.14, 'ashu']\n"
     ]
    }
   ],
   "source": [
    "d=22,4.5,\"ammu\"\n",
    "print(c)"
   ]
  },
  {
   "cell_type": "code",
   "execution_count": 67,
   "id": "92c95e87",
   "metadata": {},
   "outputs": [
    {
     "name": "stdout",
     "output_type": "stream",
     "text": [
      "[10, 2.14, 'ashu', 10, 2.14, 'ashu', 10, 2.14, 'ashu', 10, 2.14, 'ashu', 10, 2.14, 'ashu']\n"
     ]
    }
   ],
   "source": [
    "print(c * 5)"
   ]
  },
  {
   "cell_type": "code",
   "execution_count": 68,
   "id": "18c4a44f",
   "metadata": {},
   "outputs": [
    {
     "name": "stdout",
     "output_type": "stream",
     "text": [
      "()\n"
     ]
    }
   ],
   "source": [
    "print(d[0:0])"
   ]
  },
  {
   "cell_type": "code",
   "execution_count": 69,
   "id": "1a55664c",
   "metadata": {},
   "outputs": [
    {
     "name": "stdout",
     "output_type": "stream",
     "text": [
      "(22, 4.5)\n"
     ]
    }
   ],
   "source": [
    "\n",
    "\n",
    "\n",
    "\n",
    "\n",
    "\n",
    "print(d[0:2])"
   ]
  },
  {
   "cell_type": "code",
   "execution_count": 70,
   "id": "e51043bc",
   "metadata": {},
   "outputs": [
    {
     "name": "stdout",
     "output_type": "stream",
     "text": [
      "{'name': 'ashu', 'id': 100, 'dept': 'CSE'}\n"
     ]
    }
   ],
   "source": [
    "e={\"name\":\"ashu\",\"id\":100,\"dept\":\"CSE\"}\n",
    "print(e)"
   ]
  },
  {
   "cell_type": "code",
   "execution_count": 71,
   "id": "e7ecfa7c",
   "metadata": {},
   "outputs": [
    {
     "name": "stdout",
     "output_type": "stream",
     "text": [
      "dict_keys(['name', 'id', 'dept'])\n"
     ]
    }
   ],
   "source": [
    "print(e.keys())"
   ]
  },
  {
   "cell_type": "code",
   "execution_count": 72,
   "id": "07e50dcd",
   "metadata": {},
   "outputs": [
    {
     "name": "stdout",
     "output_type": "stream",
     "text": [
      "dict_values(['ashu', 100, 'CSE'])\n"
     ]
    }
   ],
   "source": [
    "print(e.values())"
   ]
  },
  {
   "cell_type": "markdown",
   "id": "9a4c8126",
   "metadata": {},
   "source": [
    "# operators\n",
    "\n",
    "\n",
    "* Arithmatic\n",
    "* Relational\n",
    "* Assignment\n",
    "* Logical\n",
    "* Member ship\n",
    "* Identity\n",
    "* Betwise"
   ]
  },
  {
   "cell_type": "markdown",
   "id": "67ba3ec6",
   "metadata": {},
   "source": [
    "# Arithmatic "
   ]
  },
  {
   "cell_type": "code",
   "execution_count": 73,
   "id": "88e7b356",
   "metadata": {},
   "outputs": [
    {
     "name": "stdout",
     "output_type": "stream",
     "text": [
      "25\n"
     ]
    }
   ],
   "source": [
    "a=10\n",
    "b=15\n",
    "print(a+b)# addition"
   ]
  },
  {
   "cell_type": "code",
   "execution_count": 74,
   "id": "fa6b6169",
   "metadata": {},
   "outputs": [
    {
     "name": "stdout",
     "output_type": "stream",
     "text": [
      "-5\n"
     ]
    }
   ],
   "source": [
    "print(a-b)"
   ]
  },
  {
   "cell_type": "code",
   "execution_count": 75,
   "id": "af6cb2ed",
   "metadata": {},
   "outputs": [
    {
     "name": "stdout",
     "output_type": "stream",
     "text": [
      "150\n"
     ]
    }
   ],
   "source": [
    "print(a*b)"
   ]
  },
  {
   "cell_type": "code",
   "execution_count": 76,
   "id": "01e8f715",
   "metadata": {},
   "outputs": [
    {
     "name": "stdout",
     "output_type": "stream",
     "text": [
      "0.6666666666666666\n",
      "1.5\n"
     ]
    }
   ],
   "source": [
    "print(a/b)\n",
    "print(b/a)"
   ]
  },
  {
   "cell_type": "code",
   "execution_count": 77,
   "id": "b3dbdda1",
   "metadata": {},
   "outputs": [
    {
     "name": "stdout",
     "output_type": "stream",
     "text": [
      "5\n"
     ]
    }
   ],
   "source": [
    "print(b%a)# remainder"
   ]
  },
  {
   "cell_type": "code",
   "execution_count": 78,
   "id": "acae3bc9",
   "metadata": {},
   "outputs": [
    {
     "name": "stdout",
     "output_type": "stream",
     "text": [
      "0\n"
     ]
    }
   ],
   "source": [
    "print(a//b)"
   ]
  },
  {
   "cell_type": "code",
   "execution_count": 79,
   "id": "59ca2a08",
   "metadata": {},
   "outputs": [
    {
     "name": "stdout",
     "output_type": "stream",
     "text": [
      "1\n"
     ]
    }
   ],
   "source": [
    "print(b//a)"
   ]
  },
  {
   "cell_type": "code",
   "execution_count": 80,
   "id": "b945f297",
   "metadata": {},
   "outputs": [
    {
     "name": "stdout",
     "output_type": "stream",
     "text": [
      "44\n"
     ]
    }
   ],
   "source": [
    "print(22*2)"
   ]
  },
  {
   "cell_type": "code",
   "execution_count": 81,
   "id": "d885a331",
   "metadata": {},
   "outputs": [
    {
     "name": "stdout",
     "output_type": "stream",
     "text": [
      "3125\n"
     ]
    }
   ],
   "source": [
    "print(5**5)"
   ]
  },
  {
   "cell_type": "code",
   "execution_count": 82,
   "id": "1d62774a",
   "metadata": {},
   "outputs": [
    {
     "name": "stdout",
     "output_type": "stream",
     "text": [
      "32\n"
     ]
    }
   ],
   "source": [
    "print(2**5)"
   ]
  },
  {
   "cell_type": "code",
   "execution_count": 83,
   "id": "507da451",
   "metadata": {},
   "outputs": [
    {
     "name": "stdout",
     "output_type": "stream",
     "text": [
      "16\n"
     ]
    }
   ],
   "source": [
    "print(4**2)"
   ]
  },
  {
   "cell_type": "markdown",
   "id": "05ee8e82",
   "metadata": {},
   "source": [
    "# Assignment"
   ]
  },
  {
   "cell_type": "code",
   "execution_count": 84,
   "id": "f455bd6f",
   "metadata": {},
   "outputs": [
    {
     "name": "stdout",
     "output_type": "stream",
     "text": [
      "10\n"
     ]
    }
   ],
   "source": [
    "a = 10\n",
    "print(a)"
   ]
  },
  {
   "cell_type": "code",
   "execution_count": 85,
   "id": "392d5446",
   "metadata": {},
   "outputs": [],
   "source": [
    "a = a+2"
   ]
  },
  {
   "cell_type": "code",
   "execution_count": 86,
   "id": "06aaed43",
   "metadata": {},
   "outputs": [
    {
     "name": "stdout",
     "output_type": "stream",
     "text": [
      "12\n"
     ]
    }
   ],
   "source": [
    "print(a)"
   ]
  },
  {
   "cell_type": "code",
   "execution_count": 87,
   "id": "0f61b2cc",
   "metadata": {},
   "outputs": [],
   "source": [
    "a+=2"
   ]
  },
  {
   "cell_type": "code",
   "execution_count": 88,
   "id": "55aaaf94",
   "metadata": {},
   "outputs": [
    {
     "name": "stdout",
     "output_type": "stream",
     "text": [
      "14\n"
     ]
    }
   ],
   "source": [
    "print(a)"
   ]
  },
  {
   "cell_type": "code",
   "execution_count": 89,
   "id": "d5cb91ea",
   "metadata": {},
   "outputs": [
    {
     "name": "stdout",
     "output_type": "stream",
     "text": [
      "20\n"
     ]
    }
   ],
   "source": [
    "a=10\n",
    "a*=2\n",
    "print(a)"
   ]
  },
  {
   "cell_type": "code",
   "execution_count": 90,
   "id": "7fae1e0b",
   "metadata": {},
   "outputs": [],
   "source": [
    "a=10\n",
    "a%=3"
   ]
  },
  {
   "cell_type": "code",
   "execution_count": 91,
   "id": "b2272ba8",
   "metadata": {},
   "outputs": [
    {
     "name": "stdout",
     "output_type": "stream",
     "text": [
      "1\n"
     ]
    }
   ],
   "source": [
    "print(a)"
   ]
  },
  {
   "cell_type": "code",
   "execution_count": 92,
   "id": "e1bd5da0",
   "metadata": {},
   "outputs": [
    {
     "name": "stdout",
     "output_type": "stream",
     "text": [
      "10000000000\n"
     ]
    }
   ],
   "source": [
    "a=10\n",
    "a**=10\n",
    "print(a)"
   ]
  },
  {
   "cell_type": "code",
   "execution_count": 93,
   "id": "2ec59510",
   "metadata": {},
   "outputs": [
    {
     "name": "stdout",
     "output_type": "stream",
     "text": [
      "5.0\n"
     ]
    }
   ],
   "source": [
    "a=10\n",
    "a/=2\n",
    "print(a)"
   ]
  },
  {
   "cell_type": "code",
   "execution_count": 94,
   "id": "3cc85d31",
   "metadata": {},
   "outputs": [
    {
     "name": "stdout",
     "output_type": "stream",
     "text": [
      "5\n"
     ]
    }
   ],
   "source": [
    "a=10\n",
    "a//=2\n",
    "print(a)"
   ]
  },
  {
   "cell_type": "markdown",
   "id": "63be33d6",
   "metadata": {},
   "source": [
    "# if,if-else,if else-if"
   ]
  },
  {
   "cell_type": "code",
   "execution_count": 95,
   "id": "1900d15b",
   "metadata": {},
   "outputs": [
    {
     "name": "stdout",
     "output_type": "stream",
     "text": [
      "Hi ashu\n"
     ]
    }
   ],
   "source": [
    "a=10\n",
    "if a == 10: \n",
    "    print(\"Hi ashu\")\n"
   ]
  },
  {
   "cell_type": "code",
   "execution_count": 96,
   "id": "6e6a90c1",
   "metadata": {},
   "outputs": [
    {
     "name": "stdout",
     "output_type": "stream",
     "text": [
      "year is leap\n"
     ]
    }
   ],
   "source": [
    "year=2020\n",
    "      \n",
    "if year%4==0:\n",
    "    print(\"year is leap\")\n",
    "else:\n",
    "    print(\"year is not leap\")"
   ]
  },
  {
   "cell_type": "markdown",
   "id": "8b6bfd11",
   "metadata": {},
   "source": [
    "num=10   \n",
    "if num%2 == 0:\n",
    "print(\"even number\")\n",
    "else num%2 = 1:\n",
    "print(\"odd number\")"
   ]
  },
  {
   "cell_type": "markdown",
   "id": "d33b906a",
   "metadata": {},
   "source": [
    "# loops\n",
    "\n",
    "\n",
    "* for loop\n",
    "* while loop"
   ]
  },
  {
   "cell_type": "code",
   "execution_count": 97,
   "id": "14cae204",
   "metadata": {},
   "outputs": [
    {
     "name": "stdout",
     "output_type": "stream",
     "text": [
      "1\n",
      "2\n",
      "3\n",
      "4\n",
      "5\n",
      "6\n",
      "7\n",
      "8\n",
      "9\n",
      "10\n"
     ]
    }
   ],
   "source": [
    "a=1\n",
    "for a in range(1,11):\n",
    "    print(a)\n"
   ]
  },
  {
   "cell_type": "code",
   "execution_count": 98,
   "id": "791fd1a0",
   "metadata": {},
   "outputs": [
    {
     "name": "stdout",
     "output_type": "stream",
     "text": [
      "1\n",
      "2\n",
      "3\n",
      "4\n",
      "5\n",
      "6\n",
      "7\n",
      "8\n",
      "9\n",
      "10\n"
     ]
    }
   ],
   "source": [
    "a=1\n",
    "while a<11:\n",
    "    print(a)\n",
    "    a=a+1"
   ]
  },
  {
   "cell_type": "code",
   "execution_count": 99,
   "id": "222c803c",
   "metadata": {},
   "outputs": [
    {
     "name": "stdout",
     "output_type": "stream",
     "text": [
      "1\n",
      "2\n",
      "3\n",
      "4\n",
      "5\n"
     ]
    }
   ],
   "source": [
    "a=1\n",
    "for a in range(1,11):\n",
    "    if a==6:\n",
    "        break\n",
    "    print(a)\n",
    "        "
   ]
  },
  {
   "cell_type": "code",
   "execution_count": 100,
   "id": "aa8db9f1",
   "metadata": {},
   "outputs": [
    {
     "name": "stdout",
     "output_type": "stream",
     "text": [
      "1\n",
      "2\n",
      "3\n",
      "4\n",
      "5\n",
      "7\n",
      "8\n",
      "9\n",
      "10\n"
     ]
    }
   ],
   "source": [
    "a=1\n",
    "for a in range(1,11):\n",
    "    if a==6:\n",
    "        continue\n",
    "    print(a)\n",
    "        "
   ]
  },
  {
   "cell_type": "code",
   "execution_count": 101,
   "id": "dcfa1688",
   "metadata": {},
   "outputs": [
    {
     "name": "stdout",
     "output_type": "stream",
     "text": [
      "ashu\n",
      "1\n",
      "ashu\n",
      "2\n",
      "ashu\n",
      "3\n",
      "ashu\n",
      "4\n",
      "ashu\n",
      "5\n",
      "ashu\n",
      "6\n",
      "ashu\n",
      "7\n",
      "ashu\n",
      "8\n",
      "ashu\n",
      "9\n",
      "ashu\n",
      "10\n"
     ]
    }
   ],
   "source": [
    "a=1\n",
    "for a in range(1,11):\n",
    "    if a==3:\n",
    "        pass\n",
    "    print(\"ashu\")\n",
    "    print(a)\n",
    "        "
   ]
  },
  {
   "cell_type": "code",
   "execution_count": 102,
   "id": "39e40cee",
   "metadata": {},
   "outputs": [
    {
     "name": "stdout",
     "output_type": "stream",
     "text": [
      "HI\n",
      "1\n",
      "HI\n",
      "2\n",
      "HI\n",
      "3\n",
      "HI\n",
      "4\n",
      "HI\n",
      "5\n",
      "HI\n",
      "6\n",
      "HI\n",
      "7\n",
      "HI\n",
      "8\n",
      "HI\n",
      "9\n",
      "HI\n",
      "10\n"
     ]
    }
   ],
   "source": [
    "a=1\n",
    "for a in range(1,11):\n",
    "    if a==6:\n",
    "        pass\n",
    "    print(\"HI\")\n",
    "    print(a)\n",
    "        "
   ]
  },
  {
   "cell_type": "markdown",
   "id": "081facd0",
   "metadata": {},
   "source": [
    "# DATA TYPES\n"
   ]
  },
  {
   "cell_type": "code",
   "execution_count": 103,
   "id": "a622e9c8",
   "metadata": {},
   "outputs": [
    {
     "name": "stdout",
     "output_type": "stream",
     "text": [
      "4.5\n"
     ]
    }
   ],
   "source": [
    "print(abs(-4.5))  # only print the positive number"
   ]
  },
  {
   "cell_type": "code",
   "execution_count": 104,
   "id": "1d300783",
   "metadata": {},
   "outputs": [
    {
     "name": "stdout",
     "output_type": "stream",
     "text": [
      "3.0308436140742566e+43\n"
     ]
    }
   ],
   "source": [
    "import math\n",
    "print(math.exp(100.12))"
   ]
  },
  {
   "cell_type": "code",
   "execution_count": 105,
   "id": "a84994dd",
   "metadata": {},
   "outputs": [
    {
     "ename": "SyntaxError",
     "evalue": "invalid syntax (<ipython-input-105-181372a32ef9>, line 1)",
     "output_type": "error",
     "traceback": [
      "\u001b[1;36m  File \u001b[1;32m\"<ipython-input-105-181372a32ef9>\"\u001b[1;36m, line \u001b[1;32m1\u001b[0m\n\u001b[1;33m    ceiland floor\u001b[0m\n\u001b[1;37m            ^\u001b[0m\n\u001b[1;31mSyntaxError\u001b[0m\u001b[1;31m:\u001b[0m invalid syntax\n"
     ]
    }
   ],
   "source": [
    "ceiland floor"
   ]
  },
  {
   "cell_type": "code",
   "execution_count": 106,
   "id": "00c4ed87",
   "metadata": {},
   "outputs": [
    {
     "name": "stdout",
     "output_type": "stream",
     "text": [
      "47\n"
     ]
    }
   ],
   "source": [
    "print(math.ceil(46.9))"
   ]
  },
  {
   "cell_type": "code",
   "execution_count": 107,
   "id": "f35d56c0",
   "metadata": {},
   "outputs": [
    {
     "name": "stdout",
     "output_type": "stream",
     "text": [
      "45\n"
     ]
    }
   ],
   "source": [
    "print(math.floor(45.3))"
   ]
  },
  {
   "cell_type": "code",
   "execution_count": 108,
   "id": "2944904d",
   "metadata": {},
   "outputs": [
    {
     "name": "stdout",
     "output_type": "stream",
     "text": [
      "10000.0\n"
     ]
    }
   ],
   "source": [
    "print(math.pow(100,2))"
   ]
  },
  {
   "cell_type": "code",
   "execution_count": 109,
   "id": "5a759ea4",
   "metadata": {},
   "outputs": [
    {
     "name": "stdout",
     "output_type": "stream",
     "text": [
      "3125.0\n"
     ]
    }
   ],
   "source": [
    "print(math.pow(5,5))"
   ]
  },
  {
   "cell_type": "code",
   "execution_count": 110,
   "id": "1e0fbd46",
   "metadata": {},
   "outputs": [
    {
     "name": "stdout",
     "output_type": "stream",
     "text": [
      "2.0\n"
     ]
    }
   ],
   "source": [
    "print(math.sqrt(4))"
   ]
  },
  {
   "cell_type": "code",
   "execution_count": 111,
   "id": "cf42645b",
   "metadata": {},
   "outputs": [
    {
     "name": "stdout",
     "output_type": "stream",
     "text": [
      "44\n"
     ]
    }
   ],
   "source": [
    "print(max(22,33,44))\n"
   ]
  },
  {
   "cell_type": "code",
   "execution_count": 112,
   "id": "b7835572",
   "metadata": {},
   "outputs": [
    {
     "name": "stdout",
     "output_type": "stream",
     "text": [
      "22\n"
     ]
    }
   ],
   "source": [
    "print(min(22,33,44))"
   ]
  },
  {
   "cell_type": "code",
   "execution_count": 113,
   "id": "41bd2b07",
   "metadata": {},
   "outputs": [
    {
     "name": "stdout",
     "output_type": "stream",
     "text": [
      "33\n"
     ]
    }
   ],
   "source": [
    "print(max(22,33,0,0.4,-12))"
   ]
  },
  {
   "cell_type": "code",
   "execution_count": 114,
   "id": "7728b1b5",
   "metadata": {},
   "outputs": [
    {
     "name": "stdout",
     "output_type": "stream",
     "text": [
      "-12\n"
     ]
    }
   ],
   "source": [
    "print(min(22,33,0,0.4,-12))"
   ]
  },
  {
   "cell_type": "code",
   "execution_count": 23,
   "id": "daf6f932",
   "metadata": {},
   "outputs": [
    {
     "name": "stdout",
     "output_type": "stream",
     "text": [
      "1\n"
     ]
    }
   ],
   "source": [
    "import random\n",
    "tuple=(1,2,3,4,5)\n",
    "print(random.choice(tuple))"
   ]
  },
  {
   "cell_type": "code",
   "execution_count": 24,
   "id": "6e0ca486",
   "metadata": {},
   "outputs": [
    {
     "name": "stdout",
     "output_type": "stream",
     "text": [
      "5\n"
     ]
    }
   ],
   "source": [
    "import random\n",
    "tuple=(1,2,3,4,5)\n",
    "print(random.choice(tuple))"
   ]
  },
  {
   "cell_type": "code",
   "execution_count": 25,
   "id": "3130ae48",
   "metadata": {},
   "outputs": [
    {
     "name": "stdout",
     "output_type": "stream",
     "text": [
      "4\n"
     ]
    }
   ],
   "source": [
    "import random\n",
    "tuple=(1,2,3,4,5)\n",
    "print(random.choice(tuple))"
   ]
  },
  {
   "cell_type": "code",
   "execution_count": 26,
   "id": "a7a43b52",
   "metadata": {},
   "outputs": [
    {
     "name": "stdout",
     "output_type": "stream",
     "text": [
      "0.4492714988105252\n"
     ]
    }
   ],
   "source": [
    "print(random.random())"
   ]
  },
  {
   "cell_type": "code",
   "execution_count": 27,
   "id": "9c6f1f2d",
   "metadata": {},
   "outputs": [
    {
     "name": "stdout",
     "output_type": "stream",
     "text": [
      "1\n"
     ]
    }
   ],
   "source": [
    "print(random.randrange(1,11,2))"
   ]
  },
  {
   "cell_type": "code",
   "execution_count": 28,
   "id": "40e3acb9",
   "metadata": {},
   "outputs": [
    {
     "name": "stdout",
     "output_type": "stream",
     "text": [
      "9\n"
     ]
    }
   ],
   "source": [
    "print(random.randrange(1,11,2))"
   ]
  },
  {
   "cell_type": "markdown",
   "id": "693375a5",
   "metadata": {},
   "source": [
    "print(random.uniform(2,20))"
   ]
  },
  {
   "cell_type": "markdown",
   "id": "7de20cc1",
   "metadata": {},
   "source": [
    "# string"
   ]
  },
  {
   "cell_type": "code",
   "execution_count": 31,
   "id": "b1f2b813",
   "metadata": {},
   "outputs": [
    {
     "name": "stdout",
     "output_type": "stream",
     "text": [
      "ashu\n",
      "thiragabathina\n"
     ]
    }
   ],
   "source": [
    "name=\"ashu\"\n",
    "surname=\"thiragabathina\"\n",
    "print(name)\n",
    "print(surname)"
   ]
  },
  {
   "cell_type": "code",
   "execution_count": 32,
   "id": "488df910",
   "metadata": {},
   "outputs": [
    {
     "name": "stdout",
     "output_type": "stream",
     "text": [
      "4\n"
     ]
    }
   ],
   "source": [
    "print(len(name))"
   ]
  },
  {
   "cell_type": "code",
   "execution_count": 33,
   "id": "8bff1e19",
   "metadata": {},
   "outputs": [
    {
     "name": "stdout",
     "output_type": "stream",
     "text": [
      "14\n"
     ]
    }
   ],
   "source": [
    "print(len(surname))"
   ]
  },
  {
   "cell_type": "markdown",
   "id": "5b2b5118",
   "metadata": {},
   "source": [
    "# concatenation"
   ]
  },
  {
   "cell_type": "code",
   "execution_count": 35,
   "id": "5230f630",
   "metadata": {},
   "outputs": [
    {
     "name": "stdout",
     "output_type": "stream",
     "text": [
      "ashuthiragabathina\n"
     ]
    }
   ],
   "source": [
    "print(name + surname)"
   ]
  },
  {
   "cell_type": "code",
   "execution_count": 36,
   "id": "db7cc9ce",
   "metadata": {},
   "outputs": [
    {
     "name": "stdout",
     "output_type": "stream",
     "text": [
      "ashuashuashuashuashu\n"
     ]
    }
   ],
   "source": [
    "print(name*5)"
   ]
  },
  {
   "cell_type": "code",
   "execution_count": 38,
   "id": "d99b7d85",
   "metadata": {},
   "outputs": [
    {
     "name": "stdout",
     "output_type": "stream",
     "text": [
      "ashuashuashuashuashu\n"
     ]
    }
   ],
   "source": [
    "print(name*5)"
   ]
  },
  {
   "cell_type": "code",
   "execution_count": 41,
   "id": "281803c2",
   "metadata": {},
   "outputs": [
    {
     "name": "stdout",
     "output_type": "stream",
     "text": [
      "sh\n"
     ]
    }
   ],
   "source": [
    "print(name[1:3])"
   ]
  },
  {
   "cell_type": "code",
   "execution_count": 42,
   "id": "26d27376",
   "metadata": {},
   "outputs": [
    {
     "name": "stdout",
     "output_type": "stream",
     "text": [
      "raga\n"
     ]
    }
   ],
   "source": [
    "print(surname[3:7])"
   ]
  },
  {
   "cell_type": "code",
   "execution_count": 1,
   "id": "402c2a17",
   "metadata": {},
   "outputs": [
    {
     "name": "stdout",
     "output_type": "stream",
     "text": [
      "[1, 3.14, 'ashu']\n"
     ]
    }
   ],
   "source": [
    "tuple1=(1,3.14,\"ashu\")\n",
    "print(list(tuple1))"
   ]
  },
  {
   "cell_type": "code",
   "execution_count": 2,
   "id": "9db1295d",
   "metadata": {},
   "outputs": [
    {
     "name": "stdout",
     "output_type": "stream",
     "text": [
      "(1, 3.14, 'ashu')\n"
     ]
    }
   ],
   "source": [
    "print(tuple1)"
   ]
  },
  {
   "cell_type": "code",
   "execution_count": 6,
   "id": "ef65f6eb",
   "metadata": {},
   "outputs": [
    {
     "name": "stdout",
     "output_type": "stream",
     "text": [
      "3\n"
     ]
    }
   ],
   "source": [
    "list1=[95.88,666,35,44,112]\n",
    "print(list1.index(44))"
   ]
  },
  {
   "cell_type": "code",
   "execution_count": 7,
   "id": "090eb7df",
   "metadata": {},
   "outputs": [
    {
     "name": "stdout",
     "output_type": "stream",
     "text": [
      "[95.88, 666, 35, 44, 112, 35, 47, 35]\n"
     ]
    }
   ],
   "source": [
    "list1=[95.88,666,35,44,112,35,47,35]\n",
    "print(list1)"
   ]
  },
  {
   "cell_type": "code",
   "execution_count": 9,
   "id": "90276dd5",
   "metadata": {},
   "outputs": [
    {
     "name": "stdout",
     "output_type": "stream",
     "text": [
      "3\n"
     ]
    }
   ],
   "source": [
    "print(list1.count(35))"
   ]
  },
  {
   "cell_type": "code",
   "execution_count": 10,
   "id": "dd83e269",
   "metadata": {},
   "outputs": [
    {
     "name": "stdout",
     "output_type": "stream",
     "text": [
      "0\n"
     ]
    }
   ],
   "source": [
    "print(list1.count(111))"
   ]
  },
  {
   "cell_type": "code",
   "execution_count": 11,
   "id": "bcdbd69e",
   "metadata": {},
   "outputs": [],
   "source": [
    "list1.insert(3,100)"
   ]
  },
  {
   "cell_type": "code",
   "execution_count": 12,
   "id": "66f673e8",
   "metadata": {},
   "outputs": [
    {
     "name": "stdout",
     "output_type": "stream",
     "text": [
      "[95.88, 666, 35, 100, 44, 112, 35, 47, 35]\n"
     ]
    }
   ],
   "source": [
    "print(list1)"
   ]
  },
  {
   "cell_type": "code",
   "execution_count": 13,
   "id": "dbe0197d",
   "metadata": {},
   "outputs": [],
   "source": [
    "list1.insert(200,100)"
   ]
  },
  {
   "cell_type": "code",
   "execution_count": 14,
   "id": "2af2b6a9",
   "metadata": {},
   "outputs": [
    {
     "name": "stdout",
     "output_type": "stream",
     "text": [
      "[95.88, 666, 35, 100, 44, 112, 35, 47, 35, 100]\n"
     ]
    }
   ],
   "source": [
    "print(list1)"
   ]
  },
  {
   "cell_type": "code",
   "execution_count": 15,
   "id": "ed82b5bd",
   "metadata": {},
   "outputs": [
    {
     "name": "stdout",
     "output_type": "stream",
     "text": [
      "[22, 44, 33, 99, 66, 88, 77]\n"
     ]
    }
   ],
   "source": [
    "list1=[22,44,33,99,66,88,77]\n",
    "print(list1)"
   ]
  },
  {
   "cell_type": "code",
   "execution_count": 18,
   "id": "a6c0e9ca",
   "metadata": {},
   "outputs": [
    {
     "name": "stdout",
     "output_type": "stream",
     "text": [
      "[77, 88, 66, 99, 33, 44, 22]\n"
     ]
    }
   ],
   "source": [
    "list1.reverse()\n",
    "print(list1)"
   ]
  },
  {
   "cell_type": "code",
   "execution_count": 24,
   "id": "3075c3fa",
   "metadata": {},
   "outputs": [
    {
     "name": "stdout",
     "output_type": "stream",
     "text": [
      "[22, 33, 44, 66, 77, 88, 99]\n"
     ]
    }
   ],
   "source": [
    "list1.sort()\n",
    "print(list1)\n"
   ]
  },
  {
   "cell_type": "code",
   "execution_count": 22,
   "id": "b43ff8d9",
   "metadata": {},
   "outputs": [
    {
     "name": "stdout",
     "output_type": "stream",
     "text": [
      "[99, 88, 77, 66, 44, 33, 22]\n"
     ]
    }
   ],
   "source": [
    "list1.sort()\n",
    "list1.reverse()\n",
    "print(list1)"
   ]
  },
  {
   "cell_type": "markdown",
   "id": "2111f10f",
   "metadata": {},
   "source": [
    "# RELATIONAL AND LOGICAL OPERATER"
   ]
  },
  {
   "cell_type": "code",
   "execution_count": 29,
   "id": "33c83830",
   "metadata": {},
   "outputs": [
    {
     "name": "stdout",
     "output_type": "stream",
     "text": [
      "comdition is false\n"
     ]
    }
   ],
   "source": [
    "a=5\n",
    "if a>10:\n",
    "    print(\"condition is true\")\n",
    "else:\n",
    "    print(\"comdition is false\")"
   ]
  },
  {
   "cell_type": "code",
   "execution_count": 30,
   "id": "ab35db6a",
   "metadata": {},
   "outputs": [
    {
     "name": "stdout",
     "output_type": "stream",
     "text": [
      "condition is true\n"
     ]
    }
   ],
   "source": [
    "a=5\n",
    "if a<=10:\n",
    "    print(\"condition is true\")"
   ]
  },
  {
   "cell_type": "code",
   "execution_count": 32,
   "id": "98cd1fcf",
   "metadata": {},
   "outputs": [
    {
     "name": "stdout",
     "output_type": "stream",
     "text": [
      "condition is true\n"
     ]
    }
   ],
   "source": [
    "a=10\n",
    "if a>=10:\n",
    "    print(\"condition is true\")"
   ]
  },
  {
   "cell_type": "code",
   "execution_count": 34,
   "id": "353f76dd",
   "metadata": {},
   "outputs": [
    {
     "name": "stdout",
     "output_type": "stream",
     "text": [
      "condition is true\n"
     ]
    }
   ],
   "source": [
    "a=5\n",
    "if a!=10:\n",
    "    print(\"condition is true\")"
   ]
  },
  {
   "cell_type": "code",
   "execution_count": 39,
   "id": "7d731168",
   "metadata": {},
   "outputs": [
    {
     "name": "stdout",
     "output_type": "stream",
     "text": [
      "false\n"
     ]
    }
   ],
   "source": [
    "a=5\n",
    "if a%2==0:\n",
    "    print(\"condition is true\")\n",
    "else:\n",
    "    print(\"false\")"
   ]
  },
  {
   "cell_type": "code",
   "execution_count": 45,
   "id": "a3d0ae4a",
   "metadata": {},
   "outputs": [
    {
     "name": "stdout",
     "output_type": "stream",
     "text": [
      "Z is grteaterthan x and y\n"
     ]
    }
   ],
   "source": [
    "x,y,z=7,5,9\n",
    "if x>y and x>z:\n",
    "    print(\"X is greaterthan y and z\")\n",
    "elif y>x and y>z:\n",
    "else :\n",
    "    print(\"Z is grteaterthan x and y\") \n",
    "    print(\"Y is greaterthan y and z\")\n",
    "\n",
    "    "
   ]
  },
  {
   "cell_type": "code",
   "execution_count": 46,
   "id": "bbb76944",
   "metadata": {},
   "outputs": [
    {
     "name": "stdout",
     "output_type": "stream",
     "text": [
      "X is greaterthan y and z\n"
     ]
    }
   ],
   "source": [
    "x,y,z=7,5,9\n",
    "if x>y or x>z:\n",
    "    print(\"X is greaterthan y and z\")\n",
    "\n",
    "else :\n",
    "    print(\"Z is grteaterthan x and y\")\n",
    "    "
   ]
  },
  {
   "cell_type": "code",
   "execution_count": 115,
   "id": "993d2f89",
   "metadata": {},
   "outputs": [
    {
     "name": "stdout",
     "output_type": "stream",
     "text": [
      "y is greaterthan x and z  \n"
     ]
    }
   ],
   "source": [
    "x,y,z=7,8,9\n",
    "if x>y and x<y:\n",
    "    print(\"X is greaterthan y and z\")\n",
    "elif x<z or x>y:\n",
    "    print(\"y is greaterthan x and z  \")"
   ]
  },
  {
   "cell_type": "code",
   "execution_count": null,
   "id": "ad761e59",
   "metadata": {},
   "outputs": [],
   "source": []
  },
  {
   "cell_type": "code",
   "execution_count": null,
   "id": "f513084c",
   "metadata": {},
   "outputs": [],
   "source": []
  },
  {
   "cell_type": "code",
   "execution_count": null,
   "id": "f955ca96",
   "metadata": {},
   "outputs": [],
   "source": []
  },
  {
   "cell_type": "code",
   "execution_count": null,
   "id": "b5e54d96",
   "metadata": {},
   "outputs": [],
   "source": []
  },
  {
   "cell_type": "code",
   "execution_count": null,
   "id": "e01832a7",
   "metadata": {},
   "outputs": [],
   "source": []
  },
  {
   "cell_type": "code",
   "execution_count": null,
   "id": "7fcd2d79",
   "metadata": {},
   "outputs": [],
   "source": []
  }
 ],
 "metadata": {
  "kernelspec": {
   "display_name": "Python 3",
   "language": "python",
   "name": "python3"
  },
  "language_info": {
   "codemirror_mode": {
    "name": "ipython",
    "version": 3
   },
   "file_extension": ".py",
   "mimetype": "text/x-python",
   "name": "python",
   "nbconvert_exporter": "python",
   "pygments_lexer": "ipython3",
   "version": "3.8.8"
  }
 },
 "nbformat": 4,
 "nbformat_minor": 5
}
