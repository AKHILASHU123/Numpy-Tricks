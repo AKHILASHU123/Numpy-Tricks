{
 "cells": [
  {
   "cell_type": "code",
   "execution_count": 3,
   "id": "3207a7fd",
   "metadata": {},
   "outputs": [
    {
     "data": {
      "text/plain": [
       "'0x400'"
      ]
     },
     "execution_count": 3,
     "metadata": {},
     "output_type": "execute_result"
    }
   ],
   "source": [
    "hex(1024)"
   ]
  },
  {
   "cell_type": "code",
   "execution_count": 9,
   "id": "04c479c9",
   "metadata": {},
   "outputs": [
    {
     "data": {
      "text/plain": [
       "5.34"
      ]
     },
     "execution_count": 9,
     "metadata": {},
     "output_type": "execute_result"
    }
   ],
   "source": [
    "a=2\n",
    "b=3.34\n",
    "a+b"
   ]
  },
  {
   "cell_type": "code",
   "execution_count": 10,
   "id": "e7e860fc",
   "metadata": {},
   "outputs": [
    {
     "data": {
      "text/plain": [
       "-1.3399999999999999"
      ]
     },
     "execution_count": 10,
     "metadata": {},
     "output_type": "execute_result"
    }
   ],
   "source": [
    "a-b"
   ]
  },
  {
   "cell_type": "code",
   "execution_count": 11,
   "id": "af8b9f96",
   "metadata": {},
   "outputs": [
    {
     "data": {
      "text/plain": [
       "6.68"
      ]
     },
     "execution_count": 11,
     "metadata": {},
     "output_type": "execute_result"
    }
   ],
   "source": [
    "a*b"
   ]
  },
  {
   "cell_type": "code",
   "execution_count": 12,
   "id": "cedd1e52",
   "metadata": {},
   "outputs": [
    {
     "data": {
      "text/plain": [
       "10.126052751762238"
      ]
     },
     "execution_count": 12,
     "metadata": {},
     "output_type": "execute_result"
    }
   ],
   "source": [
    "a**b"
   ]
  },
  {
   "cell_type": "code",
   "execution_count": 13,
   "id": "7f0d9f6f",
   "metadata": {},
   "outputs": [
    {
     "data": {
      "text/plain": [
       "4"
      ]
     },
     "execution_count": 13,
     "metadata": {},
     "output_type": "execute_result"
    }
   ],
   "source": [
    "a**a"
   ]
  },
  {
   "cell_type": "code",
   "execution_count": 15,
   "id": "910aa965",
   "metadata": {},
   "outputs": [
    {
     "data": {
      "text/plain": [
       "11.1556"
      ]
     },
     "execution_count": 15,
     "metadata": {},
     "output_type": "execute_result"
    }
   ],
   "source": [
    "b**a"
   ]
  },
  {
   "cell_type": "code",
   "execution_count": 16,
   "id": "ef7c9621",
   "metadata": {},
   "outputs": [
    {
     "data": {
      "text/plain": [
       "False"
      ]
     },
     "execution_count": 16,
     "metadata": {},
     "output_type": "execute_result"
    }
   ],
   "source": [
    "a>b"
   ]
  },
  {
   "cell_type": "code",
   "execution_count": 21,
   "id": "2cd03e58",
   "metadata": {},
   "outputs": [
    {
     "data": {
      "text/plain": [
       "True"
      ]
     },
     "execution_count": 21,
     "metadata": {},
     "output_type": "execute_result"
    }
   ],
   "source": [
    "b>a"
   ]
  },
  {
   "cell_type": "code",
   "execution_count": 25,
   "id": "c2ffb2ad",
   "metadata": {},
   "outputs": [
    {
     "ename": "SyntaxError",
     "evalue": "invalid syntax (<ipython-input-25-f996fd41ee8e>, line 1)",
     "output_type": "error",
     "traceback": [
      "\u001b[1;36m  File \u001b[1;32m\"<ipython-input-25-f996fd41ee8e>\"\u001b[1;36m, line \u001b[1;32m1\u001b[0m\n\u001b[1;33m    from import math *\u001b[0m\n\u001b[1;37m         ^\u001b[0m\n\u001b[1;31mSyntaxError\u001b[0m\u001b[1;31m:\u001b[0m invalid syntax\n"
     ]
    }
   ],
   "source": []
  },
  {
   "cell_type": "code",
   "execution_count": 30,
   "id": "5bf2f165",
   "metadata": {},
   "outputs": [
    {
     "ename": "SyntaxError",
     "evalue": "invalid syntax (<ipython-input-30-24fa69670628>, line 1)",
     "output_type": "error",
     "traceback": [
      "\u001b[1;36m  File \u001b[1;32m\"<ipython-input-30-24fa69670628>\"\u001b[1;36m, line \u001b[1;32m1\u001b[0m\n\u001b[1;33m    import numpy import linspace, sin, exp, pi\u001b[0m\n\u001b[1;37m                 ^\u001b[0m\n\u001b[1;31mSyntaxError\u001b[0m\u001b[1;31m:\u001b[0m invalid syntax\n"
     ]
    }
   ],
   "source": [
    "import numpy import linspace, sin, exp, pi\n",
    "import matplotlib,pyplot as mp\n",
    "x=linspace(0,10*pi,500)\n",
    "y=sin(x) * exp(-x/10)\n",
    "mp.plot(x,y)\n",
    "mp.show()"
   ]
  },
  {
   "cell_type": "code",
   "execution_count": 31,
   "id": "6e9f0931",
   "metadata": {},
   "outputs": [],
   "source": [
    "import calendar;\n",
    "c1=calendar.month(2021,10)"
   ]
  },
  {
   "cell_type": "code",
   "execution_count": 32,
   "id": "d6ecb92c",
   "metadata": {},
   "outputs": [
    {
     "name": "stdout",
     "output_type": "stream",
     "text": [
      "    October 2021\n",
      "Mo Tu We Th Fr Sa Su\n",
      "             1  2  3\n",
      " 4  5  6  7  8  9 10\n",
      "11 12 13 14 15 16 17\n",
      "18 19 20 21 22 23 24\n",
      "25 26 27 28 29 30 31\n",
      "\n"
     ]
    }
   ],
   "source": [
    "print(c1)"
   ]
  },
  {
   "cell_type": "code",
   "execution_count": 35,
   "id": "deaa62d7",
   "metadata": {},
   "outputs": [
    {
     "name": "stdout",
     "output_type": "stream",
     "text": [
      "                                                                          October 2021\n",
      "        Monday                Tuesday               Wednesday               Thursday                Friday                Saturday                Sunday\n",
      "                                                                                                       1                      2                      3\n",
      "           4                      5                      6                      7                      8                      9                     10\n",
      "          11                     12                     13                     14                     15                     16                     17\n",
      "          18                     19                     20                     21                     22                     23                     24\n",
      "          25                     26                     27                     28                     29                     30                     31\n",
      "\n"
     ]
    }
   ],
   "source": [
    "c1=calendar.month(2021,10,22)\n",
    "print(c1)"
   ]
  },
  {
   "cell_type": "code",
   "execution_count": 37,
   "id": "e16fa77b",
   "metadata": {},
   "outputs": [
    {
     "name": "stdout",
     "output_type": "stream",
     "text": [
      "                                October 2021\n",
      "  Monday    Tuesday   Wednesday   Thursday    Friday    Saturday    Sunday\n",
      "                                                 1          2          3\n",
      "     4          5          6          7          8          9         10\n",
      "    11         12         13         14         15         16         17\n",
      "    18         19         20         21         22         23         24\n",
      "    25         26         27         28         29         30         31\n",
      "\n"
     ]
    }
   ],
   "source": [
    "c1=calendar.month(2021,10,10)\n",
    "print(c1)"
   ]
  },
  {
   "cell_type": "code",
   "execution_count": 41,
   "id": "8bdab61b",
   "metadata": {},
   "outputs": [
    {
     "name": "stdout",
     "output_type": "stream",
     "text": [
      "                                January 2021\n",
      "  Monday    Tuesday   Wednesday   Thursday    Friday    Saturday    Sunday\n",
      "                                                 1          2          3\n",
      "     4          5          6          7          8          9         10\n",
      "    11         12         13         14         15         16         17\n",
      "    18         19         20         21         22         23         24\n",
      "    25         26         27         28         29         30         31\n",
      "\n"
     ]
    }
   ],
   "source": [
    "c1=calendar.month(2021,1,10)\n",
    "print(c1)"
   ]
  },
  {
   "cell_type": "code",
   "execution_count": 3,
   "id": "1e51bd02",
   "metadata": {},
   "outputs": [],
   "source": [
    "import time;"
   ]
  },
  {
   "cell_type": "code",
   "execution_count": 4,
   "id": "48c78c08",
   "metadata": {},
   "outputs": [
    {
     "name": "stdout",
     "output_type": "stream",
     "text": [
      "time.struct_time(tm_year=2021, tm_mon=11, tm_mday=4, tm_hour=19, tm_min=54, tm_sec=27, tm_wday=3, tm_yday=308, tm_isdst=0)\n"
     ]
    }
   ],
   "source": [
    "t1=time.localtime(time.time())\n",
    "print(t1)"
   ]
  },
  {
   "cell_type": "code",
   "execution_count": 8,
   "id": "e8ba6033",
   "metadata": {},
   "outputs": [
    {
     "name": "stdout",
     "output_type": "stream",
     "text": [
      "time.struct_time(tm_year=2021, tm_mon=11, tm_mday=4, tm_hour=19, tm_min=55, tm_sec=42, tm_wday=3, tm_yday=308, tm_isdst=0)\n"
     ]
    }
   ],
   "source": [
    "t=time.localtime(time.time())\n",
    "print(t)"
   ]
  },
  {
   "cell_type": "code",
   "execution_count": 9,
   "id": "67aa2ea8",
   "metadata": {},
   "outputs": [],
   "source": [
    "t1=time.asctime(time.localtime(time.time()))"
   ]
  },
  {
   "cell_type": "code",
   "execution_count": 10,
   "id": "872ddfb5",
   "metadata": {},
   "outputs": [
    {
     "name": "stdout",
     "output_type": "stream",
     "text": [
      "Thu Nov  4 19:56:01 2021\n"
     ]
    }
   ],
   "source": [
    "print(t1)"
   ]
  },
  {
   "cell_type": "code",
   "execution_count": 12,
   "id": "99540f00",
   "metadata": {},
   "outputs": [],
   "source": [
    "import calendar;\n"
   ]
  },
  {
   "cell_type": "code",
   "execution_count": 15,
   "id": "6e3a6bd2",
   "metadata": {},
   "outputs": [],
   "source": [
    "c1=calendar.month(2021,10)"
   ]
  },
  {
   "cell_type": "code",
   "execution_count": 16,
   "id": "0bca7d80",
   "metadata": {},
   "outputs": [
    {
     "name": "stdout",
     "output_type": "stream",
     "text": [
      "    October 2021\n",
      "Mo Tu We Th Fr Sa Su\n",
      "             1  2  3\n",
      " 4  5  6  7  8  9 10\n",
      "11 12 13 14 15 16 17\n",
      "18 19 20 21 22 23 24\n",
      "25 26 27 28 29 30 31\n",
      "\n"
     ]
    }
   ],
   "source": [
    "print(c1)"
   ]
  },
  {
   "cell_type": "code",
   "execution_count": 23,
   "id": "e9f87dbc",
   "metadata": {},
   "outputs": [
    {
     "name": "stdout",
     "output_type": "stream",
     "text": [
      "                                                                  2020\n",
      "\n",
      "                 January                                        February                                        March\n",
      " Mon   Tue   Wed   Thu   Fri   Sat   Sun        Mon   Tue   Wed   Thu   Fri   Sat   Sun        Mon   Tue   Wed   Thu   Fri   Sat   Sun\n",
      "               1     2     3     4     5                                        1     2                                              1\n",
      "   6     7     8     9    10    11    12          3     4     5     6     7     8     9          2     3     4     5     6     7     8\n",
      "  13    14    15    16    17    18    19         10    11    12    13    14    15    16          9    10    11    12    13    14    15\n",
      "  20    21    22    23    24    25    26         17    18    19    20    21    22    23         16    17    18    19    20    21    22\n",
      "  27    28    29    30    31                     24    25    26    27    28    29               23    24    25    26    27    28    29\n",
      "                                                                                                30    31\n",
      "\n",
      "                  April                                           May                                            June\n",
      " Mon   Tue   Wed   Thu   Fri   Sat   Sun        Mon   Tue   Wed   Thu   Fri   Sat   Sun        Mon   Tue   Wed   Thu   Fri   Sat   Sun\n",
      "               1     2     3     4     5                                  1     2     3          1     2     3     4     5     6     7\n",
      "   6     7     8     9    10    11    12          4     5     6     7     8     9    10          8     9    10    11    12    13    14\n",
      "  13    14    15    16    17    18    19         11    12    13    14    15    16    17         15    16    17    18    19    20    21\n",
      "  20    21    22    23    24    25    26         18    19    20    21    22    23    24         22    23    24    25    26    27    28\n",
      "  27    28    29    30                           25    26    27    28    29    30    31         29    30\n",
      "\n",
      "                   July                                          August                                       September\n",
      " Mon   Tue   Wed   Thu   Fri   Sat   Sun        Mon   Tue   Wed   Thu   Fri   Sat   Sun        Mon   Tue   Wed   Thu   Fri   Sat   Sun\n",
      "               1     2     3     4     5                                        1     2                1     2     3     4     5     6\n",
      "   6     7     8     9    10    11    12          3     4     5     6     7     8     9          7     8     9    10    11    12    13\n",
      "  13    14    15    16    17    18    19         10    11    12    13    14    15    16         14    15    16    17    18    19    20\n",
      "  20    21    22    23    24    25    26         17    18    19    20    21    22    23         21    22    23    24    25    26    27\n",
      "  27    28    29    30    31                     24    25    26    27    28    29    30         28    29    30\n",
      "                                                 31\n",
      "\n",
      "                 October                                        November                                       December\n",
      " Mon   Tue   Wed   Thu   Fri   Sat   Sun        Mon   Tue   Wed   Thu   Fri   Sat   Sun        Mon   Tue   Wed   Thu   Fri   Sat   Sun\n",
      "                     1     2     3     4                                              1                1     2     3     4     5     6\n",
      "   5     6     7     8     9    10    11          2     3     4     5     6     7     8          7     8     9    10    11    12    13\n",
      "  12    13    14    15    16    17    18          9    10    11    12    13    14    15         14    15    16    17    18    19    20\n",
      "  19    20    21    22    23    24    25         16    17    18    19    20    21    22         21    22    23    24    25    26    27\n",
      "  26    27    28    29    30    31               23    24    25    26    27    28    29         28    29    30    31\n",
      "                                                 30\n",
      "                                                                  2021\n",
      "\n",
      "                 January                                        February                                        March\n",
      " Mon   Tue   Wed   Thu   Fri   Sat   Sun        Mon   Tue   Wed   Thu   Fri   Sat   Sun        Mon   Tue   Wed   Thu   Fri   Sat   Sun\n",
      "                           1     2     3          1     2     3     4     5     6     7          1     2     3     4     5     6     7\n",
      "   4     5     6     7     8     9    10          8     9    10    11    12    13    14          8     9    10    11    12    13    14\n",
      "  11    12    13    14    15    16    17         15    16    17    18    19    20    21         15    16    17    18    19    20    21\n",
      "  18    19    20    21    22    23    24         22    23    24    25    26    27    28         22    23    24    25    26    27    28\n",
      "  25    26    27    28    29    30    31                                                        29    30    31\n",
      "\n",
      "                  April                                           May                                            June\n",
      " Mon   Tue   Wed   Thu   Fri   Sat   Sun        Mon   Tue   Wed   Thu   Fri   Sat   Sun        Mon   Tue   Wed   Thu   Fri   Sat   Sun\n",
      "                     1     2     3     4                                        1     2                1     2     3     4     5     6\n",
      "   5     6     7     8     9    10    11          3     4     5     6     7     8     9          7     8     9    10    11    12    13\n",
      "  12    13    14    15    16    17    18         10    11    12    13    14    15    16         14    15    16    17    18    19    20\n",
      "  19    20    21    22    23    24    25         17    18    19    20    21    22    23         21    22    23    24    25    26    27\n",
      "  26    27    28    29    30                     24    25    26    27    28    29    30         28    29    30\n",
      "                                                 31\n",
      "\n",
      "                   July                                          August                                       September\n",
      " Mon   Tue   Wed   Thu   Fri   Sat   Sun        Mon   Tue   Wed   Thu   Fri   Sat   Sun        Mon   Tue   Wed   Thu   Fri   Sat   Sun\n",
      "                     1     2     3     4                                              1                      1     2     3     4     5\n",
      "   5     6     7     8     9    10    11          2     3     4     5     6     7     8          6     7     8     9    10    11    12\n",
      "  12    13    14    15    16    17    18          9    10    11    12    13    14    15         13    14    15    16    17    18    19\n",
      "  19    20    21    22    23    24    25         16    17    18    19    20    21    22         20    21    22    23    24    25    26\n",
      "  26    27    28    29    30    31               23    24    25    26    27    28    29         27    28    29    30\n",
      "                                                 30    31\n",
      "\n",
      "                 October                                        November                                       December\n",
      " Mon   Tue   Wed   Thu   Fri   Sat   Sun        Mon   Tue   Wed   Thu   Fri   Sat   Sun        Mon   Tue   Wed   Thu   Fri   Sat   Sun\n",
      "                           1     2     3          1     2     3     4     5     6     7                      1     2     3     4     5\n",
      "   4     5     6     7     8     9    10          8     9    10    11    12    13    14          6     7     8     9    10    11    12\n",
      "  11    12    13    14    15    16    17         15    16    17    18    19    20    21         13    14    15    16    17    18    19\n",
      "  18    19    20    21    22    23    24         22    23    24    25    26    27    28         20    21    22    23    24    25    26\n",
      "  25    26    27    28    29    30    31         29    30                                       27    28    29    30    31\n"
     ]
    }
   ],
   "source": [
    "c2=calendar.prcal(2020,5)\n",
    "c2=calendar.prcal(2021)"
   ]
  },
  {
   "cell_type": "code",
   "execution_count": 25,
   "id": "97566cb6",
   "metadata": {},
   "outputs": [
    {
     "name": "stdout",
     "output_type": "stream",
     "text": [
      "[datetime.date(2021, 11, 4)]\n"
     ]
    }
   ],
   "source": [
    "import datetime\n",
    "mylist = []\n",
    "today = datetime.date.today()\n",
    "mylist.append(today)\n",
    "print(mylist)"
   ]
  },
  {
   "cell_type": "code",
   "execution_count": 26,
   "id": "a8705a1b",
   "metadata": {},
   "outputs": [],
   "source": [
    "t1=time.localtime(time.time())"
   ]
  },
  {
   "cell_type": "code",
   "execution_count": 27,
   "id": "93c114a2",
   "metadata": {},
   "outputs": [
    {
     "name": "stdout",
     "output_type": "stream",
     "text": [
      "time.struct_time(tm_year=2021, tm_mon=11, tm_mday=4, tm_hour=20, tm_min=6, tm_sec=49, tm_wday=3, tm_yday=308, tm_isdst=0)\n"
     ]
    }
   ],
   "source": [
    "print(t1)"
   ]
  },
  {
   "cell_type": "code",
   "execution_count": 34,
   "id": "bba3e439",
   "metadata": {},
   "outputs": [],
   "source": [
    "t1=time.asctime(time.localtime(time.time()))\n",
    "                "
   ]
  },
  {
   "cell_type": "code",
   "execution_count": 35,
   "id": "5ead709e",
   "metadata": {},
   "outputs": [
    {
     "name": "stdout",
     "output_type": "stream",
     "text": [
      "Thu Nov  4 20:10:20 2021\n"
     ]
    }
   ],
   "source": [
    "print(t1)"
   ]
  },
  {
   "cell_type": "code",
   "execution_count": 38,
   "id": "1a07e4e5",
   "metadata": {},
   "outputs": [
    {
     "name": "stdout",
     "output_type": "stream",
     "text": [
      "week number of the year:  4\n"
     ]
    }
   ],
   "source": [
    "import time\n",
    "import datetime\n",
    "print(\"week number of the year: \",datetime.date.today().strftime(\"%w\"))"
   ]
  },
  {
   "cell_type": "code",
   "execution_count": 39,
   "id": "d825a2d5",
   "metadata": {},
   "outputs": [
    {
     "name": "stdout",
     "output_type": "stream",
     "text": [
      "Day of the year:  308\n"
     ]
    }
   ],
   "source": [
    "print(\"Day of the year: \",datetime.date.today().strftime(\"%j\"))"
   ]
  },
  {
   "cell_type": "code",
   "execution_count": 40,
   "id": "b8acecde",
   "metadata": {},
   "outputs": [
    {
     "name": "stdout",
     "output_type": "stream",
     "text": [
      "day of the month:  4\n"
     ]
    }
   ],
   "source": [
    "print(\"day of the month: \",datetime.date.today().strftime(\"%w\"))"
   ]
  },
  {
   "cell_type": "code",
   "execution_count": 44,
   "id": "7f83915f",
   "metadata": {},
   "outputs": [
    {
     "ename": "SyntaxError",
     "evalue": "EOL while scanning string literal (<ipython-input-44-db2a28eb8635>, line 1)",
     "output_type": "error",
     "traceback": [
      "\u001b[1;36m  File \u001b[1;32m\"<ipython-input-44-db2a28eb8635>\"\u001b[1;36m, line \u001b[1;32m1\u001b[0m\n\u001b[1;33m    print(\"day of the week :\" \",datetime.date.today().strftime(\"%A\"))\u001b[0m\n\u001b[1;37m                                                                     ^\u001b[0m\n\u001b[1;31mSyntaxError\u001b[0m\u001b[1;31m:\u001b[0m EOL while scanning string literal\n"
     ]
    }
   ],
   "source": [
    "print(\"day of the week :\" \",datetime.date.today().strftime(\"%A\"))"
   ]
  },
  {
   "cell_type": "markdown",
   "id": "5f62ee62",
   "metadata": {},
   "source": [
    "# NUMPY ARRAY INDEXING "
   ]
  },
  {
   "cell_type": "code",
   "execution_count": 3,
   "id": "7ed2fc06",
   "metadata": {},
   "outputs": [],
   "source": [
    "import numpy as np"
   ]
  },
  {
   "cell_type": "code",
   "execution_count": 4,
   "id": "e8f58f4c",
   "metadata": {},
   "outputs": [
    {
     "name": "stdout",
     "output_type": "stream",
     "text": [
      "2\n"
     ]
    }
   ],
   "source": [
    "arr=np.array([1,2,3,4])\n",
    "print(arr[1])"
   ]
  },
  {
   "cell_type": "code",
   "execution_count": 5,
   "id": "59f05b05",
   "metadata": {},
   "outputs": [
    {
     "name": "stdout",
     "output_type": "stream",
     "text": [
      "7\n"
     ]
    }
   ],
   "source": [
    "arr=np.array([1,2,3,4])\n",
    "print(arr[2]+arr[3])"
   ]
  },
  {
   "cell_type": "code",
   "execution_count": 6,
   "id": "22ad8671",
   "metadata": {},
   "outputs": [
    {
     "name": "stdout",
     "output_type": "stream",
     "text": [
      "2nd element on 1st row:  2\n"
     ]
    }
   ],
   "source": [
    "arr=np.array([[1,2,3,4,5],[6,7,8,9,10]])\n",
    "print( '2nd element on 1st row: ',arr[0,1])"
   ]
  },
  {
   "cell_type": "code",
   "execution_count": 7,
   "id": "f7b25884",
   "metadata": {},
   "outputs": [
    {
     "name": "stdout",
     "output_type": "stream",
     "text": [
      "5nd element on 1st row:  10\n"
     ]
    }
   ],
   "source": [
    "arr=np.array([[1,2,3,4,5],[6,7,8,9,10]])\n",
    "print( '5nd element on 1st row: ',arr[1,4])"
   ]
  },
  {
   "cell_type": "code",
   "execution_count": 8,
   "id": "ef6bab65",
   "metadata": {},
   "outputs": [
    {
     "name": "stdout",
     "output_type": "stream",
     "text": [
      "[2 3 4 5]\n"
     ]
    }
   ],
   "source": [
    "import numpy as np\n",
    "arr=np.array([1,2,3,4,5,6,7])\n",
    "print(arr[1:5])"
   ]
  },
  {
   "cell_type": "code",
   "execution_count": 9,
   "id": "2fee8cf6",
   "metadata": {},
   "outputs": [
    {
     "name": "stdout",
     "output_type": "stream",
     "text": [
      "[5 6 7]\n"
     ]
    }
   ],
   "source": [
    "print(arr[4:])"
   ]
  },
  {
   "cell_type": "code",
   "execution_count": 10,
   "id": "6e13a516",
   "metadata": {},
   "outputs": [
    {
     "name": "stdout",
     "output_type": "stream",
     "text": [
      "[1 2 3 4]\n"
     ]
    }
   ],
   "source": [
    "print(arr[:4])"
   ]
  },
  {
   "cell_type": "code",
   "execution_count": 11,
   "id": "4a2c6c71",
   "metadata": {},
   "outputs": [
    {
     "name": "stdout",
     "output_type": "stream",
     "text": [
      "[5]\n"
     ]
    }
   ],
   "source": [
    "print(arr[-3:-2])"
   ]
  },
  {
   "cell_type": "code",
   "execution_count": 12,
   "id": "8bf9e468",
   "metadata": {},
   "outputs": [
    {
     "name": "stdout",
     "output_type": "stream",
     "text": [
      "[2 4]\n"
     ]
    }
   ],
   "source": [
    "print(arr[1:5:2])"
   ]
  },
  {
   "cell_type": "code",
   "execution_count": 13,
   "id": "61a2e5b1",
   "metadata": {},
   "outputs": [
    {
     "name": "stdout",
     "output_type": "stream",
     "text": [
      "[1 3 5 7]\n"
     ]
    }
   ],
   "source": [
    "print(arr[::2])"
   ]
  },
  {
   "cell_type": "code",
   "execution_count": 14,
   "id": "103a69c1",
   "metadata": {},
   "outputs": [
    {
     "name": "stdout",
     "output_type": "stream",
     "text": [
      "[7 8 9]\n"
     ]
    }
   ],
   "source": [
    "import numpy as np\n",
    "arr=np.array([[1,2,3,4,5],[6,7,8,9,10]])\n",
    "print(arr[1,1:4])"
   ]
  },
  {
   "cell_type": "code",
   "execution_count": 15,
   "id": "69274dd2",
   "metadata": {},
   "outputs": [
    {
     "name": "stdout",
     "output_type": "stream",
     "text": [
      "[3 8]\n"
     ]
    }
   ],
   "source": [
    "arr=np.array([[1,2,3,4,5],[6,7,8,9,10]])\n",
    "print(arr[0:2,2])"
   ]
  },
  {
   "cell_type": "code",
   "execution_count": 16,
   "id": "3657be73",
   "metadata": {},
   "outputs": [
    {
     "name": "stdout",
     "output_type": "stream",
     "text": [
      "[[2 3 4]\n",
      " [7 8 9]]\n"
     ]
    }
   ],
   "source": [
    "arr=np.array([[1,2,3,4,5],[6,7,8,9,10]])\n",
    "print(arr[0:2,1:4])"
   ]
  },
  {
   "cell_type": "code",
   "execution_count": 17,
   "id": "8002f5e0",
   "metadata": {},
   "outputs": [
    {
     "name": "stdout",
     "output_type": "stream",
     "text": [
      "[1 2 3 4 5]\n"
     ]
    }
   ],
   "source": [
    "arr=np.array([1,2,3,4,5,])\n",
    "print(arr[0:5])"
   ]
  },
  {
   "cell_type": "code",
   "execution_count": 18,
   "id": "8e9f40c0",
   "metadata": {},
   "outputs": [
    {
     "name": "stdout",
     "output_type": "stream",
     "text": [
      "<U6\n"
     ]
    }
   ],
   "source": [
    "arr=np.array(['apple','banana','cherry'])\n",
    "print(arr.dtype)"
   ]
  },
  {
   "cell_type": "code",
   "execution_count": 19,
   "id": "507825a7",
   "metadata": {},
   "outputs": [
    {
     "name": "stdout",
     "output_type": "stream",
     "text": [
      "[1 2 3 4]\n",
      "int32\n"
     ]
    }
   ],
   "source": [
    "arr=np.array([1,2,3,4],dtype='i4')\n",
    "print(arr)\n",
    "print(arr.dtype)"
   ]
  },
  {
   "cell_type": "code",
   "execution_count": 20,
   "id": "e0fe4e3c",
   "metadata": {},
   "outputs": [
    {
     "name": "stdout",
     "output_type": "stream",
     "text": [
      "[42  2  3  4]\n",
      "[1 2 3 4]\n"
     ]
    }
   ],
   "source": [
    "arra=np.array([1,2,3,4,5])\n",
    "x=arr.copy()\n",
    "arr[0]=42\n",
    "print(arr)\n",
    "print(x)"
   ]
  },
  {
   "cell_type": "code",
   "execution_count": 21,
   "id": "a311949f",
   "metadata": {},
   "outputs": [],
   "source": [
    "arr[1]=22"
   ]
  },
  {
   "cell_type": "code",
   "execution_count": 22,
   "id": "8d6efa52",
   "metadata": {},
   "outputs": [
    {
     "name": "stdout",
     "output_type": "stream",
     "text": [
      "[42 22  3  4]\n"
     ]
    }
   ],
   "source": [
    "print(arr)"
   ]
  },
  {
   "cell_type": "code",
   "execution_count": 23,
   "id": "110554b4",
   "metadata": {},
   "outputs": [
    {
     "name": "stdout",
     "output_type": "stream",
     "text": [
      "[42 22  3  4]\n",
      "[42 22  3  4]\n"
     ]
    }
   ],
   "source": [
    "arra=np.array([1,2,3,4,5])\n",
    "x=arr.view()\n",
    "arr[0]=42\n",
    "print(arr)\n",
    "print(x)"
   ]
  },
  {
   "cell_type": "code",
   "execution_count": 24,
   "id": "93f98ec7",
   "metadata": {},
   "outputs": [
    {
     "name": "stdout",
     "output_type": "stream",
     "text": [
      "None\n",
      "[42 22  3  4]\n"
     ]
    }
   ],
   "source": [
    "arra=np.array([1,2,3,4,5])\n",
    "x=arr.copy()\n",
    "y=arr.view()\n",
    "arr[0]=42\n",
    "print(x.base)\n",
    "print(y.base)"
   ]
  },
  {
   "cell_type": "code",
   "execution_count": 25,
   "id": "6f8ad9f4",
   "metadata": {},
   "outputs": [
    {
     "name": "stdout",
     "output_type": "stream",
     "text": [
      "[[[[[1 2 3 4]]]]]\n",
      "shape of array: (1, 1, 1, 1, 4)\n"
     ]
    }
   ],
   "source": [
    "arr=np.array([1,2,3,4],ndmin=5)\n",
    "print(arr)\n",
    "print('shape of array:',arr.shape)"
   ]
  },
  {
   "cell_type": "code",
   "execution_count": 26,
   "id": "9b859f07",
   "metadata": {},
   "outputs": [
    {
     "name": "stdout",
     "output_type": "stream",
     "text": [
      "[[ 1  2  3  4]\n",
      " [ 5  6  7  8]\n",
      " [ 9 10 11 12]]\n"
     ]
    }
   ],
   "source": [
    "arr=np.array([1,2,3,4,5,6,7,8,9,10,11,12])\n",
    "newarr=arr.reshape(3,4)\n",
    "print(newarr)"
   ]
  },
  {
   "cell_type": "code",
   "execution_count": 27,
   "id": "bdf03e33",
   "metadata": {},
   "outputs": [
    {
     "name": "stdout",
     "output_type": "stream",
     "text": [
      "[[[ 1  2]\n",
      "  [ 3  4]\n",
      "  [ 5  6]]\n",
      "\n",
      " [[ 7  8]\n",
      "  [ 9 10]\n",
      "  [11 12]]]\n"
     ]
    }
   ],
   "source": [
    "arr=np.array([1,2,3,4,5,6,7,8,9,10,11,12])\n",
    "newarr=arr.reshape(2,3,2)\n",
    "print(newarr)"
   ]
  },
  {
   "cell_type": "code",
   "execution_count": 28,
   "id": "08a0163c",
   "metadata": {},
   "outputs": [
    {
     "ename": "ValueError",
     "evalue": "cannot reshape array of size 12 into shape (3,3)",
     "output_type": "error",
     "traceback": [
      "\u001b[1;31m---------------------------------------------------------------------------\u001b[0m",
      "\u001b[1;31mValueError\u001b[0m                                Traceback (most recent call last)",
      "\u001b[1;32m<ipython-input-28-e174b2791d3b>\u001b[0m in \u001b[0;36m<module>\u001b[1;34m\u001b[0m\n\u001b[0;32m      1\u001b[0m \u001b[0marr\u001b[0m\u001b[1;33m=\u001b[0m\u001b[0mnp\u001b[0m\u001b[1;33m.\u001b[0m\u001b[0marray\u001b[0m\u001b[1;33m(\u001b[0m\u001b[1;33m[\u001b[0m\u001b[1;36m1\u001b[0m\u001b[1;33m,\u001b[0m\u001b[1;36m2\u001b[0m\u001b[1;33m,\u001b[0m\u001b[1;36m3\u001b[0m\u001b[1;33m,\u001b[0m\u001b[1;36m4\u001b[0m\u001b[1;33m,\u001b[0m\u001b[1;36m5\u001b[0m\u001b[1;33m,\u001b[0m\u001b[1;36m6\u001b[0m\u001b[1;33m,\u001b[0m\u001b[1;36m7\u001b[0m\u001b[1;33m,\u001b[0m\u001b[1;36m8\u001b[0m\u001b[1;33m,\u001b[0m\u001b[1;36m9\u001b[0m\u001b[1;33m,\u001b[0m\u001b[1;36m10\u001b[0m\u001b[1;33m,\u001b[0m\u001b[1;36m11\u001b[0m\u001b[1;33m,\u001b[0m\u001b[1;36m12\u001b[0m\u001b[1;33m]\u001b[0m\u001b[1;33m)\u001b[0m\u001b[1;33m\u001b[0m\u001b[1;33m\u001b[0m\u001b[0m\n\u001b[1;32m----> 2\u001b[1;33m \u001b[0mnewarr\u001b[0m\u001b[1;33m=\u001b[0m\u001b[0marr\u001b[0m\u001b[1;33m.\u001b[0m\u001b[0mreshape\u001b[0m\u001b[1;33m(\u001b[0m\u001b[1;36m3\u001b[0m\u001b[1;33m,\u001b[0m\u001b[1;36m3\u001b[0m\u001b[1;33m)\u001b[0m\u001b[1;33m\u001b[0m\u001b[1;33m\u001b[0m\u001b[0m\n\u001b[0m\u001b[0;32m      3\u001b[0m \u001b[0mprint\u001b[0m\u001b[1;33m(\u001b[0m\u001b[0mnewarr\u001b[0m\u001b[1;33m)\u001b[0m\u001b[1;33m\u001b[0m\u001b[1;33m\u001b[0m\u001b[0m\n",
      "\u001b[1;31mValueError\u001b[0m: cannot reshape array of size 12 into shape (3,3)"
     ]
    }
   ],
   "source": [
    "arr=np.array([1,2,3,4,5,6,7,8,9,10,11,12])\n",
    "newarr=arr.reshape(3,3)\n",
    "print(newarr)"
   ]
  },
  {
   "cell_type": "code",
   "execution_count": 29,
   "id": "1d76ebad",
   "metadata": {},
   "outputs": [
    {
     "name": "stdout",
     "output_type": "stream",
     "text": [
      "[[1 2 3 4]\n",
      " [5 6 7 8]]\n"
     ]
    }
   ],
   "source": [
    "arr=np.array([1,2,3,4,5,6,7,8])\n",
    "newarr=arr.reshape(2,4)\n",
    "print(newarr)"
   ]
  },
  {
   "cell_type": "code",
   "execution_count": 30,
   "id": "4a604b6f",
   "metadata": {},
   "outputs": [
    {
     "name": "stdout",
     "output_type": "stream",
     "text": [
      "[[[1 2]\n",
      "  [3 4]]\n",
      "\n",
      " [[5 6]\n",
      "  [7 8]]]\n"
     ]
    }
   ],
   "source": [
    "arr=np.array([1,2,3,4,5,6,7,8])\n",
    "newarr=arr.reshape(2,2,-1)\n",
    "print(newarr)"
   ]
  },
  {
   "cell_type": "code",
   "execution_count": 31,
   "id": "e579981a",
   "metadata": {},
   "outputs": [
    {
     "name": "stdout",
     "output_type": "stream",
     "text": [
      "[1 2 3 4 5 6]\n"
     ]
    }
   ],
   "source": [
    "arr=np.array([[1,2,3], [4,5,6,]])\n",
    "newarr=arr.reshape(-1)\n",
    "print(newarr)"
   ]
  },
  {
   "cell_type": "code",
   "execution_count": 32,
   "id": "1432b739",
   "metadata": {},
   "outputs": [
    {
     "name": "stdout",
     "output_type": "stream",
     "text": [
      "[1 2 3]\n",
      "[4 5 6]\n",
      "[7 8 9]\n",
      "[10 11 12]\n"
     ]
    }
   ],
   "source": [
    "arr=np.array([[1,2,3],[4,5,6],[7,8,9],[10,11,12]])\n",
    "for x in arr:\n",
    "    print(x)"
   ]
  },
  {
   "cell_type": "code",
   "execution_count": 33,
   "id": "b47c4111",
   "metadata": {},
   "outputs": [
    {
     "name": "stdout",
     "output_type": "stream",
     "text": [
      "1\n",
      "2\n",
      "3\n",
      "4\n",
      "5\n",
      "6\n",
      "7\n",
      "8\n",
      "9\n",
      "10\n",
      "11\n",
      "12\n"
     ]
    }
   ],
   "source": [
    "arr=np.array([[[1,2,3],[4,5,6],[7,8,9],[10,11,12]]])\n",
    "for x in arr:\n",
    "    for y in x:\n",
    "          for z in y:\n",
    "                     print(z)"
   ]
  },
  {
   "cell_type": "code",
   "execution_count": 34,
   "id": "e628c0dd",
   "metadata": {},
   "outputs": [
    {
     "name": "stdout",
     "output_type": "stream",
     "text": [
      "1\n",
      "2\n",
      "3\n",
      "4\n",
      "5\n",
      "6\n",
      "7\n",
      "8\n",
      "9\n",
      "10\n",
      "11\n",
      "12\n"
     ]
    }
   ],
   "source": [
    "arr=np.array([[[[1,2,3],[4,5,6],[7,8,9],[10,11,12]]]])\n",
    "for x in arr:\n",
    "    for y in x:\n",
    "          for z in y:\n",
    "                for a in z:\n",
    "                     print(a)"
   ]
  },
  {
   "cell_type": "code",
   "execution_count": 35,
   "id": "bfde5ee5",
   "metadata": {},
   "outputs": [
    {
     "ename": "IndentationError",
     "evalue": "unexpected indent (<ipython-input-35-9703116b7fab>, line 4)",
     "output_type": "error",
     "traceback": [
      "\u001b[1;36m  File \u001b[1;32m\"<ipython-input-35-9703116b7fab>\"\u001b[1;36m, line \u001b[1;32m4\u001b[0m\n\u001b[1;33m    print(x)\u001b[0m\n\u001b[1;37m    ^\u001b[0m\n\u001b[1;31mIndentationError\u001b[0m\u001b[1;31m:\u001b[0m unexpected indent\n"
     ]
    }
   ],
   "source": [
    "arr=np.array([[1,2,3,4],[5,6,7,8,]])\n",
    "for x in arr:\n",
    "     np.nditer(arr[:, ::2])\n",
    "                 print(x)"
   ]
  },
  {
   "cell_type": "code",
   "execution_count": 36,
   "id": "8b578cc9",
   "metadata": {},
   "outputs": [
    {
     "name": "stdout",
     "output_type": "stream",
     "text": [
      "[1 2 3 4 5 6]\n"
     ]
    }
   ],
   "source": [
    "arr1=np.array([1,2,3])\n",
    "arr2=np.array([4,5,6])\n",
    "arr=np.concatenate((arr1,arr2))\n",
    "print(arr)"
   ]
  },
  {
   "cell_type": "code",
   "execution_count": 37,
   "id": "5f01bff6",
   "metadata": {},
   "outputs": [
    {
     "name": "stdout",
     "output_type": "stream",
     "text": [
      "[[[1 2 3 4]\n",
      "  [5 6 7 8]]]\n"
     ]
    }
   ],
   "source": [
    "arr1=np.array([[[1,2,3,4]]])\n",
    "arr2=np.array([[[5,6,7,8]]])\n",
    "arr=np.concatenate((arr1,arr2),axis=1)\n",
    "print(arr)"
   ]
  },
  {
   "cell_type": "code",
   "execution_count": 38,
   "id": "d973d9c8",
   "metadata": {},
   "outputs": [],
   "source": [
    "arr1=np.array([1,2,3])\n",
    "arr2=np.array([4,5,6])\n",
    "arr=np.stack((arr1,arr2),axis=1)\n"
   ]
  },
  {
   "cell_type": "code",
   "execution_count": 39,
   "id": "cb6e8f5f",
   "metadata": {},
   "outputs": [
    {
     "name": "stdout",
     "output_type": "stream",
     "text": [
      "[[1 4]\n",
      " [2 5]\n",
      " [3 6]]\n"
     ]
    }
   ],
   "source": [
    "print(arr)"
   ]
  },
  {
   "cell_type": "code",
   "execution_count": 40,
   "id": "17c37c43",
   "metadata": {},
   "outputs": [],
   "source": [
    "ashu=np.array([1,2,3,4,5,6])\n",
    "newarr=np.array_split(ashu,3)"
   ]
  },
  {
   "cell_type": "code",
   "execution_count": 41,
   "id": "8815f3e7",
   "metadata": {},
   "outputs": [
    {
     "name": "stdout",
     "output_type": "stream",
     "text": [
      "[array([1, 2]), array([3, 4]), array([5, 6])]\n"
     ]
    }
   ],
   "source": [
    "print(newarr)"
   ]
  },
  {
   "cell_type": "code",
   "execution_count": 42,
   "id": "48f879c4",
   "metadata": {},
   "outputs": [],
   "source": [
    "ashu=np.array([1,2,3,4,5,6])\n",
    "newarr=np.array_split(arr,5)"
   ]
  },
  {
   "cell_type": "code",
   "execution_count": 55,
   "id": "9e8b2a19",
   "metadata": {},
   "outputs": [
    {
     "name": "stdout",
     "output_type": "stream",
     "text": [
      "[array([[1, 4]]), array([[2, 5]]), array([[3, 6]])]\n"
     ]
    }
   ],
   "source": [
    "print(newarr)"
   ]
  },
  {
   "cell_type": "code",
   "execution_count": 56,
   "id": "810e582f",
   "metadata": {},
   "outputs": [],
   "source": [
    "import numpy as np\n",
    "ashu=np.array([1,2,3,4,5,6])\n",
    "newarr=np.array_split(arr,3)\n"
   ]
  },
  {
   "cell_type": "code",
   "execution_count": 57,
   "id": "93431103",
   "metadata": {},
   "outputs": [],
   "source": [
    "def multiply(x,y=0):\n",
    "    print(\"value of x=\",x)\n",
    "    print(\"value of y=\",y)\n",
    "    return x*y\n",
    "    print(multiply(y=2,x=4))"
   ]
  },
  {
   "cell_type": "code",
   "execution_count": 1,
   "id": "c0d0cb7e",
   "metadata": {},
   "outputs": [
    {
     "name": "stdout",
     "output_type": "stream",
     "text": [
      "0\n",
      "1\n",
      "2\n",
      "3\n"
     ]
    }
   ],
   "source": [
    "x=0\n",
    "while(x<4):\n",
    "    print(x)\n",
    "    x=x+1"
   ]
  },
  {
   "cell_type": "code",
   "execution_count": 2,
   "id": "0e896a89",
   "metadata": {},
   "outputs": [
    {
     "name": "stdout",
     "output_type": "stream",
     "text": [
      "0\n",
      "1\n",
      "2\n",
      "3\n"
     ]
    }
   ],
   "source": [
    "x=0\n",
    "while(x<4):\n",
    "    print(x)\n",
    "    x=x+1"
   ]
  },
  {
   "cell_type": "code",
   "execution_count": 3,
   "id": "73687a6b",
   "metadata": {},
   "outputs": [
    {
     "name": "stdout",
     "output_type": "stream",
     "text": [
      "0\n",
      "1\n",
      "2\n",
      "3\n",
      "4\n",
      "5\n",
      "6\n",
      "7\n",
      "8\n",
      "9\n"
     ]
    }
   ],
   "source": [
    "x=0\n",
    "while(x<10):\n",
    "    print(x)\n",
    "    x=x+1\n"
   ]
  },
  {
   "cell_type": "code",
   "execution_count": 6,
   "id": "c0c0c390",
   "metadata": {},
   "outputs": [
    {
     "name": "stdout",
     "output_type": "stream",
     "text": [
      "2\n",
      "3\n",
      "4\n",
      "5\n",
      "6\n",
      "7\n"
     ]
    }
   ],
   "source": [
    "x=0\n",
    "for x in range(2,8):\n",
    "    print(x)\n",
    "    x=x+1\n",
    "    \n"
   ]
  },
  {
   "cell_type": "code",
   "execution_count": 10,
   "id": "b9e61750",
   "metadata": {},
   "outputs": [
    {
     "name": "stdout",
     "output_type": "stream",
     "text": [
      "10\n",
      "11\n",
      "12\n",
      "13\n",
      "14\n"
     ]
    }
   ],
   "source": [
    "for x in range(10,20):\n",
    "    if(x==15): break\n",
    "    print(x)"
   ]
  },
  {
   "cell_type": "code",
   "execution_count": 11,
   "id": "07056447",
   "metadata": {},
   "outputs": [
    {
     "name": "stdout",
     "output_type": "stream",
     "text": [
      "10\n",
      "11\n",
      "12\n",
      "13\n",
      "14\n",
      "16\n",
      "17\n",
      "18\n",
      "19\n"
     ]
    }
   ],
   "source": [
    "for x in range(10,20):\n",
    "    if(x==15): continue\n",
    "    print(x)"
   ]
  },
  {
   "cell_type": "code",
   "execution_count": 13,
   "id": "914908d1",
   "metadata": {},
   "outputs": [
    {
     "name": "stdout",
     "output_type": "stream",
     "text": [
      "10\n",
      "11\n",
      "12\n",
      "13\n",
      "14\n"
     ]
    }
   ],
   "source": [
    "for x in range(10,20):\n",
    "    if(x==15): break\n",
    "    print(x)"
   ]
  },
  {
   "cell_type": "code",
   "execution_count": 17,
   "id": "453042b5",
   "metadata": {},
   "outputs": [
    {
     "name": "stdout",
     "output_type": "stream",
     "text": [
      "0 jan\n",
      "1 feb\n",
      "2 mar\n",
      "3 April\n",
      "4 May\n",
      "5 june\n"
     ]
    }
   ],
   "source": [
    "months=[\"jan\",\"feb\",\"mar\",\"April\",\"May\",\"june\"]\n",
    "for i, m in enumerate(months):\n",
    "    print(i,m)"
   ]
  },
  {
   "cell_type": "code",
   "execution_count": 19,
   "id": "c4f03b90",
   "metadata": {},
   "outputs": [
    {
     "name": "stdout",
     "output_type": "stream",
     "text": [
      "0 2001\n",
      "1 2002\n",
      "2 2003\n",
      "3 2004\n"
     ]
    }
   ],
   "source": [
    "year=[2001,2002,2003,2004]\n",
    "for i, m in enumerate(year):\n",
    "    print(i,m)"
   ]
  },
  {
   "cell_type": "code",
   "execution_count": 21,
   "id": "6cfd62b0",
   "metadata": {},
   "outputs": [
    {
     "name": "stdout",
     "output_type": "stream",
     "text": [
      "['sun', 'mon', 'tue', 'wed', 'thu', 'fri', 'sat']\n",
      "['sun', 'mon', 'tue', 'wed', 'thu', 'fri', 'sat']\n",
      "['sun', 'mon', 'tue', 'wed', 'thu', 'fri', 'sat']\n",
      "['sun', 'mon', 'tue', 'wed', 'thu', 'fri', 'sat']\n",
      "['sun', 'mon', 'tue', 'wed', 'thu', 'fri', 'sat']\n",
      "['sun', 'mon', 'tue', 'wed', 'thu', 'fri', 'sat']\n",
      "['sun', 'mon', 'tue', 'wed', 'thu', 'fri', 'sat']\n"
     ]
    }
   ],
   "source": [
    "days=[\"sun\",\"mon\",\"tue\",\"wed\",\"thu\",\"fri\",\"sat\"]\n",
    "for i, m in enumerate(days):\n",
    "    print(days)"
   ]
  },
  {
   "cell_type": "code",
   "execution_count": 28,
   "id": "0a3048ac",
   "metadata": {},
   "outputs": [
    {
     "name": "stdout",
     "output_type": "stream",
     "text": [
      "ashu 1\n",
      "ashu 2\n",
      "ashu 3\n",
      "ashu 4\n"
     ]
    }
   ],
   "source": [
    "for i in '1234':\n",
    "    print(\"ashu\", i)"
   ]
  },
  {
   "cell_type": "code",
   "execution_count": 34,
   "id": "56cc530f",
   "metadata": {},
   "outputs": [],
   "source": [
    "for i in range(4):\n",
    "    for j in range(4):\n",
    "        if j==2:\n",
    "            break\n",
    "            print(\"The number is \",i,j);"
   ]
  },
  {
   "cell_type": "code",
   "execution_count": 48,
   "id": "6e7f38d5",
   "metadata": {},
   "outputs": [],
   "source": [
    "for i in range(10):\n",
    "    if i == 7:\n",
    "        continue\n",
    "        print(\"The Number is:\",i)"
   ]
  },
  {
   "cell_type": "code",
   "execution_count": 51,
   "id": "0b350b76",
   "metadata": {},
   "outputs": [
    {
     "name": "stdout",
     "output_type": "stream",
     "text": [
      "The Number is: 10\n"
     ]
    }
   ],
   "source": [
    "print(\"The Number is:\",i+1)"
   ]
  },
  {
   "cell_type": "code",
   "execution_count": 52,
   "id": "3b4ac9bc",
   "metadata": {},
   "outputs": [],
   "source": [
    "for i in range(10):\n",
    "    if i == 7:\n",
    "        continue\n",
    "        print(\"The Number is:\",i)"
   ]
  },
  {
   "cell_type": "code",
   "execution_count": null,
   "id": "405071f0",
   "metadata": {},
   "outputs": [],
   "source": []
  },
  {
   "cell_type": "code",
   "execution_count": null,
   "id": "6a00a0ed",
   "metadata": {},
   "outputs": [],
   "source": [
    "\n",
    "\n",
    "\n",
    "\n",
    "\n",
    "\n",
    "\n",
    "\n",
    "\n",
    "\n",
    "\n"
   ]
  },
  {
   "cell_type": "code",
   "execution_count": null,
   "id": "62d0907c",
   "metadata": {},
   "outputs": [],
   "source": []
  },
  {
   "cell_type": "code",
   "execution_count": null,
   "id": "58fc260f",
   "metadata": {},
   "outputs": [],
   "source": []
  },
  {
   "cell_type": "code",
   "execution_count": null,
   "id": "ebcb7056",
   "metadata": {},
   "outputs": [],
   "source": []
  },
  {
   "cell_type": "code",
   "execution_count": null,
   "id": "60001a99",
   "metadata": {},
   "outputs": [],
   "source": []
  },
  {
   "cell_type": "code",
   "execution_count": null,
   "id": "196512c5",
   "metadata": {},
   "outputs": [],
   "source": []
  },
  {
   "cell_type": "code",
   "execution_count": null,
   "id": "8d35f399",
   "metadata": {},
   "outputs": [],
   "source": []
  }
 ],
 "metadata": {
  "kernelspec": {
   "display_name": "Python 3",
   "language": "python",
   "name": "python3"
  },
  "language_info": {
   "codemirror_mode": {
    "name": "ipython",
    "version": 3
   },
   "file_extension": ".py",
   "mimetype": "text/x-python",
   "name": "python",
   "nbconvert_exporter": "python",
   "pygments_lexer": "ipython3",
   "version": "3.8.8"
  }
 },
 "nbformat": 4,
 "nbformat_minor": 5
}
