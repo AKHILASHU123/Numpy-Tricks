{
 "cells": [
  {
   "cell_type": "code",
   "execution_count": 9,
   "id": "560a0bb6",
   "metadata": {},
   "outputs": [
    {
     "data": {
      "text/plain": [
       "16"
      ]
     },
     "execution_count": 9,
     "metadata": {},
     "output_type": "execute_result"
    }
   ],
   "source": [
    "a=20\n",
    "b=4\n",
    "a &b\n",
    "\n",
    "\n",
    "\n",
    "a|b\n",
    "\n",
    "\n",
    "a^b\n",
    "\n",
    "\n",
    "\n"
   ]
  },
  {
   "cell_type": "code",
   "execution_count": 10,
   "id": "03affe09",
   "metadata": {},
   "outputs": [
    {
     "data": {
      "text/plain": [
       "'0b1010'"
      ]
     },
     "execution_count": 10,
     "metadata": {},
     "output_type": "execute_result"
    }
   ],
   "source": [
    "bin(10)"
   ]
  },
  {
   "cell_type": "markdown",
   "id": "a7c4bc0b",
   "metadata": {},
   "source": [
    "# control structures\n",
    "* squential control\n",
    "* selection control\n",
    "* iterative control"
   ]
  },
  {
   "cell_type": "code",
   "execution_count": 11,
   "id": "005fdec1",
   "metadata": {},
   "outputs": [
    {
     "name": "stdout",
     "output_type": "stream",
     "text": [
      "hello\n",
      "welcome\n",
      "welcome to ashu\n"
     ]
    }
   ],
   "source": [
    "print('hello')\n",
    "print('welcome')\n",
    "print('welcome to ashu')"
   ]
  },
  {
   "cell_type": "code",
   "execution_count": 15,
   "id": "5eacc088",
   "metadata": {},
   "outputs": [
    {
     "name": "stdout",
     "output_type": "stream",
     "text": [
      "enter the integer value25\n",
      "vale is greater than 10\n"
     ]
    }
   ],
   "source": [
    "var=int(input('enter the integer value'))\n",
    "if var<10:\n",
    "    print(\"value is less than 10\")\n",
    "else:\n",
    "    print('vale is greater than 10')\n"
   ]
  },
  {
   "cell_type": "code",
   "execution_count": 21,
   "id": "81809c29",
   "metadata": {},
   "outputs": [
    {
     "name": "stdout",
     "output_type": "stream",
     "text": [
      "0\n",
      "1\n",
      "2\n",
      "3\n",
      "4\n",
      "5\n",
      "6\n",
      "7\n",
      "8\n",
      "9\n"
     ]
    }
   ],
   "source": [
    "var=0\n",
    "while var<10:\n",
    "    print(var)\n",
    "    var=var+1"
   ]
  },
  {
   "cell_type": "code",
   "execution_count": null,
   "id": "3b9042b0",
   "metadata": {},
   "outputs": [],
   "source": [
    "* selection control statement\n",
    "if condition:\n",
    "    action\n",
    "else:\n",
    "    action\n",
    "      "
   ]
  },
  {
   "cell_type": "code",
   "execution_count": 30,
   "id": "ff5527e5",
   "metadata": {},
   "outputs": [
    {
     "name": "stdout",
     "output_type": "stream",
     "text": [
      "enter your marks in maths:35\n",
      "sorry you are fail\n",
      "thank you\n"
     ]
    }
   ],
   "source": [
    "marks=int(input(\"enter your marks in maths:\"))\n",
    "\n",
    "if marks>35:\n",
    "    print(\"you are pass\")\n",
    "else: \n",
    "    print('sorry you are fail')\n",
    "print(\"thank you\")"
   ]
  },
  {
   "cell_type": "code",
   "execution_count": 32,
   "id": "9af02861",
   "metadata": {},
   "outputs": [
    {
     "name": "stdout",
     "output_type": "stream",
     "text": [
      "enter the marks :100\n",
      "perfect score\n",
      "thank you\n"
     ]
    }
   ],
   "source": [
    "marks=int(input(\"enter the marks :\"))\n",
    "if marks==100:\n",
    "    print(\"perfect score\")\n",
    "print(\"thank you\")\n"
   ]
  },
  {
   "cell_type": "code",
   "execution_count": 33,
   "id": "4a6ddac3",
   "metadata": {},
   "outputs": [
    {
     "name": "stdout",
     "output_type": "stream",
     "text": [
      "enter the marks :57\n",
      "thank you\n"
     ]
    }
   ],
   "source": [
    "marks=int(input(\"enter the marks :\"))\n",
    "if marks==100:\n",
    "    print(\"perfect score\")\n",
    "print(\"thank you\")\n"
   ]
  },
  {
   "cell_type": "code",
   "execution_count": 107,
   "id": "1e21d40b",
   "metadata": {},
   "outputs": [
    {
     "name": "stdout",
     "output_type": "stream",
     "text": [
      "ashus of xyz college got : 56 marks\n"
     ]
    }
   ],
   "source": [
    "name='ashu'\n",
    "clg='xyz'\n",
    "marks=56\n",
    "if clg=='xyz':\n",
    "    if name=='ashu':\n",
    "       print('ashus of xyz college got :',marks,'marks')"
   ]
  },
  {
   "cell_type": "code",
   "execution_count": 59,
   "id": "bcf8f5a2",
   "metadata": {},
   "outputs": [],
   "source": [
    "name=\"ashu\"\n",
    "clg=\"xyz\"\n",
    "marks=56\n",
    "if clg == \"xyz\":\n",
    "    if name == \"ash\":\n",
    "        print(\"ashu of xyz college got :\",marks,\"marks\")"
   ]
  },
  {
   "cell_type": "code",
   "execution_count": 47,
   "id": "82132319",
   "metadata": {},
   "outputs": [
    {
     "name": "stdout",
     "output_type": "stream",
     "text": [
      "y is greater\n"
     ]
    }
   ],
   "source": [
    "x = 20\n",
    "y = 45\n",
    "z = 23\n",
    "if x>y and x>z:\n",
    "    print(\"x is greater\")\n",
    "else:\n",
    "    if z>y:\n",
    "        print(\"z is greater\")\n",
    "    else:\n",
    "        print(\"y is greater\")\n",
    "        "
   ]
  },
  {
   "cell_type": "code",
   "execution_count": 60,
   "id": "2bf844e3",
   "metadata": {},
   "outputs": [],
   "source": [
    "name=\"ashu\"\n",
    "clg=\"xyz\"\n",
    "marks=56\n",
    "if clg == \"xyz\":\n",
    "    if name == \"ash\":\n",
    "        print(\"ashu of xyz college got :\",marks,\"marks\")"
   ]
  },
  {
   "cell_type": "code",
   "execution_count": 61,
   "id": "011f7596",
   "metadata": {},
   "outputs": [
    {
     "name": "stdout",
     "output_type": "stream",
     "text": [
      "character is p\n",
      "character is y\n",
      "character is t\n",
      "character is h\n",
      "character is o\n",
      "character is n\n",
      "character is  \n"
     ]
    }
   ],
   "source": [
    "for letter in \"python \":\n",
    "    print('character is',letter)"
   ]
  },
  {
   "cell_type": "code",
   "execution_count": 66,
   "id": "00668bbd",
   "metadata": {},
   "outputs": [
    {
     "name": "stdout",
     "output_type": "stream",
     "text": [
      "character is a\n",
      "character is s\n",
      "character is h\n",
      "character is u\n",
      "character is  \n",
      "character is  \n",
      "character is *\n",
      "character is  \n",
      "character is a\n",
      "character is k\n",
      "character is h\n",
      "character is i\n",
      "character is l\n"
     ]
    }
   ],
   "source": [
    "for letter in \"ashu  * akhil\":\n",
    "    print('character is',letter)"
   ]
  },
  {
   "cell_type": "code",
   "execution_count": 78,
   "id": "ec335ac0",
   "metadata": {},
   "outputs": [
    {
     "name": "stdout",
     "output_type": "stream",
     "text": [
      "10\n",
      "20\n",
      "30\n"
     ]
    }
   ],
   "source": [
    "for letter in [10,20,30]:\n",
    "    print(letter)"
   ]
  },
  {
   "cell_type": "code",
   "execution_count": 84,
   "id": "d27cbd02",
   "metadata": {},
   "outputs": [
    {
     "name": "stdout",
     "output_type": "stream",
     "text": [
      "10 less than 25\n",
      "20 less than 25\n",
      "30 greater than 25\n",
      "-26 less than 25\n",
      "0.34444 less than 25\n"
     ]
    }
   ],
   "source": [
    "for letter in [10,20,30,-26,0.34444]:\n",
    "    if letter >25:\n",
    "        print(letter,\"greater than 25\")\n",
    "    else:\n",
    "        print(letter,\"less than 25\")"
   ]
  },
  {
   "cell_type": "code",
   "execution_count": 93,
   "id": "473fb6a5",
   "metadata": {},
   "outputs": [
    {
     "name": "stdout",
     "output_type": "stream",
     "text": [
      "1\n",
      "good bye\n",
      "2\n",
      "good bye\n",
      "3\n",
      "good bye\n",
      "4\n",
      "good bye\n",
      "5\n",
      "good bye\n"
     ]
    }
   ],
   "source": [
    "count=1\n",
    "while count <=5:\n",
    "    print(count)\n",
    "    count = count+1\n",
    "    print(\"good bye\")"
   ]
  },
  {
   "cell_type": "code",
   "execution_count": 98,
   "id": "2945a73e",
   "metadata": {},
   "outputs": [
    {
     "name": "stdout",
     "output_type": "stream",
     "text": [
      "0\n",
      "1\n",
      "2\n",
      "3\n",
      "4\n",
      "5\n",
      "thank you\n"
     ]
    }
   ],
   "source": [
    "# this ex of break statement\n",
    " \n",
    "count=0\n",
    "while count<=5:\n",
    "    if count==10:\n",
    "        break\n",
    "    else:\n",
    "        print(count)\n",
    "    count=count+1\n",
    "print(\"thank you\")"
   ]
  },
  {
   "cell_type": "code",
   "execution_count": 103,
   "id": "670ad0f3",
   "metadata": {},
   "outputs": [
    {
     "name": "stdout",
     "output_type": "stream",
     "text": [
      "a\n",
      "s\n",
      "h\n",
      "thank you\n"
     ]
    }
   ],
   "source": [
    "for letter in \"ashus\":\n",
    "    if letter == 'u':\n",
    "        break\n",
    "    else:\n",
    "        print(letter)\n",
    "print(\"thank you\")"
   ]
  },
  {
   "cell_type": "code",
   "execution_count": 104,
   "id": "a88e42f3",
   "metadata": {},
   "outputs": [
    {
     "name": "stdout",
     "output_type": "stream",
     "text": [
      "a\n",
      "s\n",
      "h\n",
      "s\n",
      "thank you\n"
     ]
    }
   ],
   "source": [
    "for letter in \"ashus\":\n",
    "    if letter == 'u':\n",
    "        continue\n",
    "    else:\n",
    "        print(letter)\n",
    "print(\"thank you\")"
   ]
  },
  {
   "cell_type": "code",
   "execution_count": 113,
   "id": "8b42f2bf",
   "metadata": {},
   "outputs": [
    {
     "name": "stdout",
     "output_type": "stream",
     "text": [
      "1\n",
      "2\n",
      "3\n",
      "4\n",
      "5\n",
      "6\n",
      "good morning\n"
     ]
    }
   ],
   "source": [
    "for count in \"12345678910\":\n",
    "    if count == '7':\n",
    "        break\n",
    "    else:\n",
    "        print(count)\n",
    "print(\"good morning\")"
   ]
  },
  {
   "cell_type": "code",
   "execution_count": 114,
   "id": "455f66c7",
   "metadata": {},
   "outputs": [
    {
     "name": "stdout",
     "output_type": "stream",
     "text": [
      "1\n",
      "2\n",
      "3\n",
      "4\n",
      "5\n",
      "6\n",
      "8\n",
      "9\n",
      "1\n",
      "0\n",
      "good morning\n"
     ]
    }
   ],
   "source": [
    "for count in \"12345678910\":\n",
    "    if count == '7':\n",
    "        continue\n",
    "    else:\n",
    "        print(count)\n",
    "print(\"good morning\")"
   ]
  },
  {
   "cell_type": "code",
   "execution_count": 118,
   "id": "e24ae225",
   "metadata": {},
   "outputs": [
    {
     "name": "stdout",
     "output_type": "stream",
     "text": [
      "9\n",
      "8\n",
      "7\n",
      "6\n",
      "5\n",
      "4\n",
      "2\n",
      "1\n",
      "0\n",
      "thanks\n"
     ]
    }
   ],
   "source": [
    "var=10\n",
    "while var > 0:\n",
    "    var = var-1\n",
    "    if var==3:\n",
    "        continue\n",
    "    print(var)\n",
    "print(\"thanks\")"
   ]
  },
  {
   "cell_type": "code",
   "execution_count": 126,
   "id": "49817241",
   "metadata": {},
   "outputs": [
    {
     "data": {
      "text/plain": [
       "'monkey'"
      ]
     },
     "execution_count": 126,
     "metadata": {},
     "output_type": "execute_result"
    }
   ],
   "source": [
    "animals = []\n",
    "animals\n",
    "animals = [\"dog\",\"monkey\",\"pig\"]\n",
    "animals[1]"
   ]
  },
  {
   "cell_type": "code",
   "execution_count": 130,
   "id": "8de3c38b",
   "metadata": {},
   "outputs": [
    {
     "name": "stdout",
     "output_type": "stream",
     "text": [
      "[10, 20.4, 'hello', 43]\n"
     ]
    }
   ],
   "source": [
    "list1 = [10,20.4,\"hello\",43]\n",
    "print(list1)\n"
   ]
  },
  {
   "cell_type": "code",
   "execution_count": 140,
   "id": "b05a5366",
   "metadata": {},
   "outputs": [
    {
     "data": {
      "text/plain": [
       "69"
      ]
     },
     "execution_count": 140,
     "metadata": {},
     "output_type": "execute_result"
    }
   ],
   "source": [
    "list2 = [10,20,],[40,69]\n",
    "list2\n",
    "list2[1][1]"
   ]
  },
  {
   "cell_type": "code",
   "execution_count": 141,
   "id": "0dcc1f88",
   "metadata": {},
   "outputs": [
    {
     "name": "stdout",
     "output_type": "stream",
     "text": [
      "10\n",
      "20\n",
      "30\n",
      "49\n"
     ]
    }
   ],
   "source": [
    "for num in [10,20,30,49]:\n",
    "    print(num)"
   ]
  },
  {
   "cell_type": "markdown",
   "id": "72ecfaf1",
   "metadata": {},
   "source": [
    "# list operations\n",
    "* replace\n",
    "* insert\n",
    "* sort \n",
    "* delete\n",
    "* append\n",
    "* reverse"
   ]
  },
  {
   "cell_type": "code",
   "execution_count": 143,
   "id": "ad5d01f1",
   "metadata": {},
   "outputs": [
    {
     "data": {
      "text/plain": [
       "[10, 20, 'ashu', 5.6]"
      ]
     },
     "execution_count": 143,
     "metadata": {},
     "output_type": "execute_result"
    }
   ],
   "source": [
    "list1 = [10,20,40,5.6]\n",
    "list1[2] = \"ashu\"     # replace operation\n",
    "list1"
   ]
  },
  {
   "cell_type": "code",
   "execution_count": 144,
   "id": "28c78915",
   "metadata": {},
   "outputs": [
    {
     "name": "stdout",
     "output_type": "stream",
     "text": [
      "[10, 20, 'akhil', 40, 5.6]\n"
     ]
    }
   ],
   "source": [
    "list1 = [10,20,40,5.6]\n",
    "list1.insert(2,\"akhil\")   #insert operation\n",
    "print(list1)"
   ]
  },
  {
   "cell_type": "code",
   "execution_count": 148,
   "id": "57210199",
   "metadata": {},
   "outputs": [
    {
     "data": {
      "text/plain": [
       "['akka', 'ammu', 'ashu']"
      ]
     },
     "execution_count": 148,
     "metadata": {},
     "output_type": "execute_result"
    }
   ],
   "source": [
    "list1 = [\"ashu\",\"ammu\",\"akka\"]\n",
    "list1.sort()\n",
    "list1"
   ]
  },
  {
   "cell_type": "code",
   "execution_count": 151,
   "id": "cd93027c",
   "metadata": {},
   "outputs": [
    {
     "data": {
      "text/plain": [
       "[10, 20, 23, 65]"
      ]
     },
     "execution_count": 151,
     "metadata": {},
     "output_type": "execute_result"
    }
   ],
   "source": [
    "list2 = [10,65,20,23]\n",
    "list2.sort()    # sort operations\n",
    "list2"
   ]
  },
  {
   "cell_type": "code",
   "execution_count": 152,
   "id": "9355748c",
   "metadata": {},
   "outputs": [
    {
     "data": {
      "text/plain": [
       "[10, 23, 65]"
      ]
     },
     "execution_count": 152,
     "metadata": {},
     "output_type": "execute_result"
    }
   ],
   "source": [
    "del list2[1]\n",
    "list2        # del operation"
   ]
  },
  {
   "cell_type": "code",
   "execution_count": 153,
   "id": "1f627a1a",
   "metadata": {},
   "outputs": [
    {
     "data": {
      "text/plain": [
       "['lion', 'monkey', 'zebra', 'dog']"
      ]
     },
     "execution_count": 153,
     "metadata": {},
     "output_type": "execute_result"
    }
   ],
   "source": [
    "animals = [\"lion\",\"monkey\",\"zebra\"]\n",
    "animals.append(\"dog\")\n",
    "animals"
   ]
  },
  {
   "cell_type": "code",
   "execution_count": 158,
   "id": "15cf1ab0",
   "metadata": {},
   "outputs": [
    {
     "data": {
      "text/plain": [
       "['zebra', 'monkey', 'lion']"
      ]
     },
     "execution_count": 158,
     "metadata": {},
     "output_type": "execute_result"
    }
   ],
   "source": [
    "animals = [\"lion\",\"monkey\",\"zebra\"]\n",
    "animals.reverse()    #reverse operation\n",
    "animals"
   ]
  },
  {
   "cell_type": "code",
   "execution_count": 162,
   "id": "a483f20f",
   "metadata": {},
   "outputs": [
    {
     "name": "stdout",
     "output_type": "stream",
     "text": [
      "['apple', 'banana']\n",
      "['apple', 'graps']\n",
      "['apple', 'orange', 'graps']\n",
      "['apple', 'graps', 'orange']\n",
      "['graps', 'orange']\n",
      "['graps', 'orange', 'pappaya']\n",
      "['pappaya', 'orange', 'graps']\n"
     ]
    }
   ],
   "source": [
    "fruits = [\"apple\",\"banana\"]\n",
    "print(fruits)\n",
    "\n",
    "fruits[1] = \"graps\"\n",
    "print(fruits)\n",
    " \n",
    "fruits.insert(1,\"orange\")\n",
    "print(fruits)\n",
    "\n",
    "\n",
    "fruits.sort()\n",
    "print(fruits)\n",
    "\n",
    "del fruits[0]\n",
    "print(fruits)\n",
    "\n",
    "fruits.append(\"pappaya\")\n",
    "print(fruits)\n",
    "\n",
    "fruits.reverse()\n",
    "print(fruits)"
   ]
  },
  {
   "cell_type": "code",
   "execution_count": 161,
   "id": "1079b520",
   "metadata": {},
   "outputs": [],
   "source": [
    "fruits[1] = \"graps\""
   ]
  },
  {
   "cell_type": "code",
   "execution_count": null,
   "id": "f7b605f0",
   "metadata": {},
   "outputs": [],
   "source": []
  }
 ],
 "metadata": {
  "kernelspec": {
   "display_name": "Python 3",
   "language": "python",
   "name": "python3"
  },
  "language_info": {
   "codemirror_mode": {
    "name": "ipython",
    "version": 3
   },
   "file_extension": ".py",
   "mimetype": "text/x-python",
   "name": "python",
   "nbconvert_exporter": "python",
   "pygments_lexer": "ipython3",
   "version": "3.8.8"
  }
 },
 "nbformat": 4,
 "nbformat_minor": 5
}
