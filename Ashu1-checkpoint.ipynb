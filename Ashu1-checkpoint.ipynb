{
 "cells": [
  {
   "cell_type": "markdown",
   "id": "35370904",
   "metadata": {},
   "source": [
    "# object oriented Programming system\n",
    "* class and object\n",
    "* variables and methods\n",
    "* inheritance\n",
    "* polymorphism\n",
    "   * methods overloading\n",
    "   * method overriding"
   ]
  },
  {
   "cell_type": "markdown",
   "id": "5240de51",
   "metadata": {},
   "source": [
    "# * clas:class is blue print for construct of object\n",
    "* for creating class we can use class keyword in python\n",
    "\n",
    "\n",
    "* oblect:it is a instance of a clas/physical existance/real world entity\n",
    "* reference variable:it pointing to object for perform the task\n",
    "\n",
    "*  create object:\n",
    "* syntax: s=claaname var=new class name\n"
   ]
  },
  {
   "cell_type": "code",
   "execution_count": 8,
   "id": "ccb5c72e",
   "metadata": {},
   "outputs": [
    {
     "data": {
      "text/plain": [
       "__main__.Mystudent"
      ]
     },
     "execution_count": 8,
     "metadata": {},
     "output_type": "execute_result"
    }
   ],
   "source": [
    "# create  a class\n",
    "class Mystudent:\n",
    "    pass\n",
    "s=Mystudent()\n",
    "type(s)"
   ]
  },
  {
   "cell_type": "code",
   "execution_count": 20,
   "id": "de0e3af6",
   "metadata": {},
   "outputs": [
    {
     "name": "stdout",
     "output_type": "stream",
     "text": [
      "this is a method for print student name\n",
      "this is a method for disply student marks\n"
     ]
    }
   ],
   "source": [
    "# create a method in class\n",
    "class Mystudent:\n",
    "    def name(self):\n",
    "        print(\"this is a method for print student name\")\n",
    "    def marks(self):\n",
    "        print(\"this is a method for disply student marks\")\n",
    "s=Mystudent()\n",
    "s.name()\n",
    "s.marks()\n"
   ]
  },
  {
   "cell_type": "code",
   "execution_count": 23,
   "id": "05640f3d",
   "metadata": {},
   "outputs": [
    {
     "name": "stdout",
     "output_type": "stream",
     "text": [
      "sum: 30\n",
      "mul: 200\n",
      "wel to all\n"
     ]
    }
   ],
   "source": [
    "# creative a constructer\n",
    "class Mystudent:\n",
    "    def __init__(self):\n",
    "        a=10\n",
    "        b=20\n",
    "        print(\"sum:\",a+b)\n",
    "        print(\"mul:\",a*b)\n",
    "    def message(Self):\n",
    "        print(\"wel to all\")\n",
    "s=Mystudent()\n",
    "s.message()"
   ]
  },
  {
   "cell_type": "code",
   "execution_count": 26,
   "id": "aa8e62c4",
   "metadata": {},
   "outputs": [
    {
     "name": "stdout",
     "output_type": "stream",
     "text": [
      "10 20 30\n",
      "wel to all\n"
     ]
    }
   ],
   "source": [
    "# parameterized constructer in class\n",
    "class Mystudent:\n",
    "    def __init__(self,a,b,c):\n",
    "        a1=a\n",
    "        b1=b\n",
    "        c1=c\n",
    "        print(a1,b1,c1)\n",
    "        \n",
    "    def message(Self):\n",
    "        print(\"wel to all\")\n",
    "s=Mystudent(10,20,30)\n",
    "s.message()"
   ]
  },
  {
   "cell_type": "code",
   "execution_count": 31,
   "id": "9e854a30",
   "metadata": {},
   "outputs": [
    {
     "ename": "NameError",
     "evalue": "name 'a1' is not defined",
     "output_type": "error",
     "traceback": [
      "\u001b[1;31m---------------------------------------------------------------------------\u001b[0m",
      "\u001b[1;31mNameError\u001b[0m                                 Traceback (most recent call last)",
      "\u001b[1;32m<ipython-input-31-12a5621916af>\u001b[0m in \u001b[0;36m<module>\u001b[1;34m\u001b[0m\n\u001b[0;32m     10\u001b[0m         \u001b[0mprint\u001b[0m\u001b[1;33m(\u001b[0m\u001b[0mself\u001b[0m\u001b[1;33m.\u001b[0m\u001b[0ma1\u001b[0m\u001b[1;33m)\u001b[0m\u001b[1;33m\u001b[0m\u001b[1;33m\u001b[0m\u001b[0m\n\u001b[0;32m     11\u001b[0m \u001b[1;33m\u001b[0m\u001b[0m\n\u001b[1;32m---> 12\u001b[1;33m \u001b[0ms\u001b[0m\u001b[1;33m=\u001b[0m\u001b[0mMystudent\u001b[0m\u001b[1;33m(\u001b[0m\u001b[1;36m10\u001b[0m\u001b[1;33m,\u001b[0m\u001b[1;36m20\u001b[0m\u001b[1;33m,\u001b[0m\u001b[1;36m30\u001b[0m\u001b[1;33m)\u001b[0m\u001b[1;33m\u001b[0m\u001b[1;33m\u001b[0m\u001b[0m\n\u001b[0m\u001b[0;32m     13\u001b[0m \u001b[0ms\u001b[0m\u001b[1;33m.\u001b[0m\u001b[0mmessage\u001b[0m\u001b[1;33m(\u001b[0m\u001b[1;33m)\u001b[0m\u001b[1;33m\u001b[0m\u001b[1;33m\u001b[0m\u001b[0m\n",
      "\u001b[1;32m<ipython-input-31-12a5621916af>\u001b[0m in \u001b[0;36m__init__\u001b[1;34m(self, a, b, c)\u001b[0m\n\u001b[0;32m      5\u001b[0m         \u001b[0mself\u001b[0m\u001b[1;33m.\u001b[0m\u001b[0mb1\u001b[0m\u001b[1;33m=\u001b[0m\u001b[0mb\u001b[0m\u001b[1;33m\u001b[0m\u001b[1;33m\u001b[0m\u001b[0m\n\u001b[0;32m      6\u001b[0m         \u001b[0mself\u001b[0m\u001b[1;33m.\u001b[0m\u001b[0mc1\u001b[0m\u001b[1;33m=\u001b[0m\u001b[0mc\u001b[0m\u001b[1;33m\u001b[0m\u001b[1;33m\u001b[0m\u001b[0m\n\u001b[1;32m----> 7\u001b[1;33m         \u001b[0mprint\u001b[0m\u001b[1;33m(\u001b[0m\u001b[0ma1\u001b[0m\u001b[1;33m,\u001b[0m\u001b[0mb1\u001b[0m\u001b[1;33m,\u001b[0m\u001b[0mc1\u001b[0m\u001b[1;33m)\u001b[0m\u001b[1;33m\u001b[0m\u001b[1;33m\u001b[0m\u001b[0m\n\u001b[0m\u001b[0;32m      8\u001b[0m     \u001b[1;32mdef\u001b[0m \u001b[0mmessage\u001b[0m\u001b[1;33m(\u001b[0m\u001b[0mSelf\u001b[0m\u001b[1;33m)\u001b[0m\u001b[1;33m:\u001b[0m\u001b[1;33m\u001b[0m\u001b[1;33m\u001b[0m\u001b[0m\n\u001b[0;32m      9\u001b[0m         \u001b[0mprint\u001b[0m\u001b[1;33m(\u001b[0m\u001b[1;34m\"wel to all\"\u001b[0m\u001b[1;33m)\u001b[0m\u001b[1;33m\u001b[0m\u001b[1;33m\u001b[0m\u001b[0m\n",
      "\u001b[1;31mNameError\u001b[0m: name 'a1' is not defined"
     ]
    }
   ],
   "source": [
    "# pass the one method variable into another variable\n",
    "class Mystudent:\n",
    "    def __init__(self,a,b,c):\n",
    "        self.a1=a\n",
    "        self.b1=b\n",
    "        self.c1=c\n",
    "        print(a1,b1,c1)\n",
    "    def message(Self):\n",
    "        print(\"wel to all\")\n",
    "        print(self.a1) \n",
    "        \n",
    "s=Mystudent(10,20,30)\n",
    "s.message()"
   ]
  },
  {
   "cell_type": "code",
   "execution_count": 35,
   "id": "798bd1ed",
   "metadata": {},
   "outputs": [
    {
     "ename": "SyntaxError",
     "evalue": "invalid syntax (<ipython-input-35-c497aa15ab4f>, line 5)",
     "output_type": "error",
     "traceback": [
      "\u001b[1;36m  File \u001b[1;32m\"<ipython-input-35-c497aa15ab4f>\"\u001b[1;36m, line \u001b[1;32m5\u001b[0m\n\u001b[1;33m    def __init__(self)\u001b[0m\n\u001b[1;37m                      ^\u001b[0m\n\u001b[1;31mSyntaxError\u001b[0m\u001b[1;31m:\u001b[0m invalid syntax\n"
     ]
    }
   ],
   "source": [
    "# class vawiables\n",
    "class student:\n",
    "    college=\"My college\"\n",
    "    address=\"hyd\"\n",
    "    def __init__(self)\n",
    "        self.sname=\"ashu\"\n",
    "        self.sage=25\n",
    "    def display(Self):\n",
    "        print(\"student name is:\",self,sname)\n",
    "        print(\"student age is:\",self.sage)\n",
    "        print(\"college name:\",self,scollege)\n",
    "        print(\"address:\",self,saddress)\n",
    "s=student()\n",
    "s.display()\n",
    "s.college()\n",
    "s.address()"
   ]
  },
  {
   "cell_type": "code",
   "execution_count": 1,
   "id": "1a015209",
   "metadata": {},
   "outputs": [
    {
     "ename": "TypeError",
     "evalue": "display() missing 1 required positional argument: 'self'",
     "output_type": "error",
     "traceback": [
      "\u001b[1;31m---------------------------------------------------------------------------\u001b[0m",
      "\u001b[1;31mTypeError\u001b[0m                                 Traceback (most recent call last)",
      "\u001b[1;32m<ipython-input-1-460fae54ecf8>\u001b[0m in \u001b[0;36m<module>\u001b[1;34m\u001b[0m\n\u001b[0;32m      7\u001b[0m         \u001b[0mprint\u001b[0m\u001b[1;33m(\u001b[0m\u001b[0mself\u001b[0m\u001b[1;33m.\u001b[0m\u001b[0msname\u001b[0m\u001b[1;33m,\u001b[0m\u001b[0mself\u001b[0m\u001b[1;33m.\u001b[0m\u001b[0msage\u001b[0m\u001b[1;33m)\u001b[0m\u001b[1;33m\u001b[0m\u001b[1;33m\u001b[0m\u001b[0m\n\u001b[0;32m      8\u001b[0m \u001b[0ms\u001b[0m\u001b[1;33m=\u001b[0m\u001b[0mstudent\u001b[0m\u001b[1;33m\u001b[0m\u001b[1;33m\u001b[0m\u001b[0m\n\u001b[1;32m----> 9\u001b[1;33m \u001b[0ms\u001b[0m\u001b[1;33m.\u001b[0m\u001b[0mdisplay\u001b[0m\u001b[1;33m(\u001b[0m\u001b[1;33m)\u001b[0m\u001b[1;33m\u001b[0m\u001b[1;33m\u001b[0m\u001b[0m\n\u001b[0m\u001b[0;32m     10\u001b[0m \u001b[0ms\u001b[0m\u001b[1;33m.\u001b[0m\u001b[0mcollege\u001b[0m\u001b[1;33m=\u001b[0m\u001b[1;34m\"our college\"\u001b[0m\u001b[1;33m\u001b[0m\u001b[1;33m\u001b[0m\u001b[0m\n\u001b[0;32m     11\u001b[0m \u001b[0mprint\u001b[0m\u001b[1;33m(\u001b[0m\u001b[0ms\u001b[0m\u001b[1;33m.\u001b[0m\u001b[0mcollege\u001b[0m\u001b[1;33m)\u001b[0m\u001b[1;33m\u001b[0m\u001b[1;33m\u001b[0m\u001b[0m\n",
      "\u001b[1;31mTypeError\u001b[0m: display() missing 1 required positional argument: 'self'"
     ]
    }
   ],
   "source": [
    "class student:\n",
    "    college=\"Mycollege\"\n",
    "    def __init__(self):\n",
    "        self.sname=\"sai\"\n",
    "        self.sage=25\n",
    "    def display(self):\n",
    "        print(self.sname,self.sage)\n",
    "s=student\n",
    "s.display()\n",
    "s.college=\"our college\"\n",
    "print(s.college)\n",
    "s.sname=\"Myname\"\n",
    "s.age=30"
   ]
  },
  {
   "cell_type": "code",
   "execution_count": 2,
   "id": "0549e24d",
   "metadata": {},
   "outputs": [
    {
     "name": "stdout",
     "output_type": "stream",
     "text": [
      "student name: myname\n",
      "student age 24\n"
     ]
    },
    {
     "data": {
      "text/plain": [
       "'this is small message'"
      ]
     },
     "execution_count": 2,
     "metadata": {},
     "output_type": "execute_result"
    }
   ],
   "source": [
    "class student:\n",
    "    def __init__(self,name,age):\n",
    "        self.n=name\n",
    "        self.a=age\n",
    "    def show(self):\n",
    "        print(\"student name:\",self.n)\n",
    "        print(\"student age\",self.a)\n",
    "    @staticmethod\n",
    "    def message():\n",
    "        return \"this is small message\"\n",
    "s=student(\"myname\",24)\n",
    "s.show()\n",
    "s.message()"
   ]
  },
  {
   "cell_type": "code",
   "execution_count": null,
   "id": "37d23c24",
   "metadata": {},
   "outputs": [],
   "source": [
    "# "
   ]
  }
 ],
 "metadata": {
  "kernelspec": {
   "display_name": "Python 3",
   "language": "python",
   "name": "python3"
  },
  "language_info": {
   "codemirror_mode": {
    "name": "ipython",
    "version": 3
   },
   "file_extension": ".py",
   "mimetype": "text/x-python",
   "name": "python",
   "nbconvert_exporter": "python",
   "pygments_lexer": "ipython3",
   "version": "3.8.8"
  }
 },
 "nbformat": 4,
 "nbformat_minor": 5
}
